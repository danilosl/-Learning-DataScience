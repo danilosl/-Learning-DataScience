{
  "nbformat": 4,
  "nbformat_minor": 0,
  "metadata": {
    "colab": {
      "provenance": [],
      "collapsed_sections": [
        "PU64Xk3NvmYM",
        "gL8PMJ2WwCm0",
        "TaQmWXQt-0TW",
        "bu0CFl3G0i7Z",
        "v_Yox7Qg2UVA",
        "3IZvDohk4_Eb",
        "e29jNJbMIHkg"
      ]
    },
    "kernelspec": {
      "name": "python3",
      "display_name": "Python 3"
    },
    "language_info": {
      "name": "python"
    }
  },
  "cells": [
    {
      "cell_type": "markdown",
      "source": [
        "<p aling='center'>\n",
        "  <img src=\"https://github.com/danilosl/Learning-CG/blob/main/img/UFPA.png?raw=true\" alt=\"UFPA\" width=100/>\n",
        "  <img src=\"https://github.com/danilosl/Learning-CG/blob/main/img/ENGC.png?raw=true\" alt=\"ENGC\" width=100/>\n",
        "  <p><b>SERVIÇO PÚBLICO FEDERAL<br>\n",
        "  MINISTERIO DA EDUCAÇÃO<br>\n",
        "  UNIVERSIDADE FEDERAL DO PARÁ<br>\n",
        "  CAMPUS TUCURUÍ<br>\n",
        "  ENGENHARIA DA COMPUTAÇÃO</b><br>\n",
        "</p>\n",
        "\n",
        "---\n",
        "> <b>Disciplina</b>: Tópicos Especiais em Computadores I - Ciência de Dados<br>\n",
        "> <b>Professor</b>: Dr. Adam Dreyton Ferreira dos Santos<br>\n",
        "> **Alunos**: Brendo de Araújo Rodrigues<br>\n",
        ">&nbsp;&nbsp;&nbsp;&nbsp;&nbsp;&nbsp;&nbsp;&nbsp;&nbsp;&nbsp;&nbsp;&nbsp;&nbsp;&nbsp;Danilo de Sousa Lopes<br>\n",
        "> **Matrícula**: 201833840014<br>\n",
        ">&nbsp;&nbsp;&nbsp;&nbsp;&nbsp;&nbsp;&nbsp;&nbsp;&nbsp;&nbsp;&nbsp;&nbsp;&nbsp;&nbsp;&nbsp;&nbsp;&nbsp;&nbsp;&nbsp;201833840019<br>\n",
        "> <b>Data</b>: 11/12/2022<br>\n",
        "> <b>Projeto 4</b>: Análise do consumo de cerveja em São Paulo através da\n",
        "Regressão Linear</br>\n"
      ],
      "metadata": {
        "id": "5MmAcoUAqLtG"
      }
    },
    {
      "cell_type": "markdown",
      "source": [
        "# **Setup**"
      ],
      "metadata": {
        "id": "nYOt2r7-sEMf"
      }
    },
    {
      "cell_type": "code",
      "source": [
        "from google.colab import drive\n",
        "# montagem do drive\n",
        "drive.mount('/content/drive')\n",
        "\n",
        "# download dos datasets\n",
        "!wget -q https://github.com/danilosl/Learning-DataScience/raw/main/Projeto4/Dataset/consumo_cerveja_saopaulo.csv\n",
        "\n",
        "import pandas as pd\n",
        "import seaborn as sns\n",
        "import matplotlib.pyplot as plt\n",
        "import numpy as np\n",
        "import plotly.express as px\n",
        "from sklearn.model_selection import train_test_split\n",
        "from sklearn.linear_model import LinearRegression\n",
        "from sklearn import metrics"
      ],
      "metadata": {
        "colab": {
          "base_uri": "https://localhost:8080/"
        },
        "id": "cEN2SSSRsLC2",
        "outputId": "9e0976ea-bba3-4828-b4ef-dd28987cf84b"
      },
      "execution_count": null,
      "outputs": [
        {
          "output_type": "stream",
          "name": "stdout",
          "text": [
            "Mounted at /content/drive\n"
          ]
        }
      ]
    },
    {
      "cell_type": "markdown",
      "source": [
        "# **Pré-Processamento**\n",
        ">*   Transformação dos Dados\n",
        ">*   Criação/Exclusão de Variáveis\n",
        ">*   Tratamento dos Tipos de Dados"
      ],
      "metadata": {
        "id": "A7mnDV-2s_Yd"
      }
    },
    {
      "cell_type": "code",
      "source": [
        "# carregando a base de dados\n",
        "dados = pd.read_csv(\"/content/consumo_cerveja_saopaulo.csv\")"
      ],
      "metadata": {
        "id": "-oHD8FijzWVT"
      },
      "execution_count": null,
      "outputs": []
    },
    {
      "cell_type": "code",
      "source": [
        "# analisando os 10 primeiros elementos do conjunto de dados\n",
        "dados.head(10)"
      ],
      "metadata": {
        "colab": {
          "base_uri": "https://localhost:8080/",
          "height": 363
        },
        "id": "iGAQTm5ia7bX",
        "outputId": "a389f818-e499-4a12-a9ca-8193bcab86a1"
      },
      "execution_count": null,
      "outputs": [
        {
          "output_type": "execute_result",
          "data": {
            "text/plain": [
              "         Data Temperatura Media (C) Temperatura Minima (C)  \\\n",
              "0  2015-01-01                  27,3                   23,9   \n",
              "1  2015-01-02                 27,02                   24,5   \n",
              "2  2015-01-03                 24,82                   22,4   \n",
              "3  2015-01-04                 23,98                   21,5   \n",
              "4  2015-01-05                 23,82                     21   \n",
              "5  2015-01-06                 23,78                   20,1   \n",
              "6  2015-01-07                    24                   19,5   \n",
              "7  2015-01-08                  24,9                   19,5   \n",
              "8  2015-01-09                  28,2                   21,9   \n",
              "9  2015-01-10                 26,76                   22,1   \n",
              "\n",
              "  Temperatura Maxima (C) Precipitacao (mm)  Final de Semana  \\\n",
              "0                   32,5                 0              0.0   \n",
              "1                   33,5                 0              0.0   \n",
              "2                   29,9                 0              1.0   \n",
              "3                   28,6               1,2              1.0   \n",
              "4                   28,3                 0              0.0   \n",
              "5                   30,5              12,2              0.0   \n",
              "6                   33,7                 0              0.0   \n",
              "7                   32,8              48,6              0.0   \n",
              "8                     34               4,4              0.0   \n",
              "9                   34,2                 0              1.0   \n",
              "\n",
              "   Consumo de cerveja (litros)  \n",
              "0                       25.461  \n",
              "1                       28.972  \n",
              "2                       30.814  \n",
              "3                       29.799  \n",
              "4                       28.900  \n",
              "5                       28.218  \n",
              "6                       29.732  \n",
              "7                       28.397  \n",
              "8                       24.886  \n",
              "9                       37.937  "
            ],
            "text/html": [
              "\n",
              "  <div id=\"df-b97a8c1e-0fdd-46d1-b546-daef0b34dd5d\">\n",
              "    <div class=\"colab-df-container\">\n",
              "      <div>\n",
              "<style scoped>\n",
              "    .dataframe tbody tr th:only-of-type {\n",
              "        vertical-align: middle;\n",
              "    }\n",
              "\n",
              "    .dataframe tbody tr th {\n",
              "        vertical-align: top;\n",
              "    }\n",
              "\n",
              "    .dataframe thead th {\n",
              "        text-align: right;\n",
              "    }\n",
              "</style>\n",
              "<table border=\"1\" class=\"dataframe\">\n",
              "  <thead>\n",
              "    <tr style=\"text-align: right;\">\n",
              "      <th></th>\n",
              "      <th>Data</th>\n",
              "      <th>Temperatura Media (C)</th>\n",
              "      <th>Temperatura Minima (C)</th>\n",
              "      <th>Temperatura Maxima (C)</th>\n",
              "      <th>Precipitacao (mm)</th>\n",
              "      <th>Final de Semana</th>\n",
              "      <th>Consumo de cerveja (litros)</th>\n",
              "    </tr>\n",
              "  </thead>\n",
              "  <tbody>\n",
              "    <tr>\n",
              "      <th>0</th>\n",
              "      <td>2015-01-01</td>\n",
              "      <td>27,3</td>\n",
              "      <td>23,9</td>\n",
              "      <td>32,5</td>\n",
              "      <td>0</td>\n",
              "      <td>0.0</td>\n",
              "      <td>25.461</td>\n",
              "    </tr>\n",
              "    <tr>\n",
              "      <th>1</th>\n",
              "      <td>2015-01-02</td>\n",
              "      <td>27,02</td>\n",
              "      <td>24,5</td>\n",
              "      <td>33,5</td>\n",
              "      <td>0</td>\n",
              "      <td>0.0</td>\n",
              "      <td>28.972</td>\n",
              "    </tr>\n",
              "    <tr>\n",
              "      <th>2</th>\n",
              "      <td>2015-01-03</td>\n",
              "      <td>24,82</td>\n",
              "      <td>22,4</td>\n",
              "      <td>29,9</td>\n",
              "      <td>0</td>\n",
              "      <td>1.0</td>\n",
              "      <td>30.814</td>\n",
              "    </tr>\n",
              "    <tr>\n",
              "      <th>3</th>\n",
              "      <td>2015-01-04</td>\n",
              "      <td>23,98</td>\n",
              "      <td>21,5</td>\n",
              "      <td>28,6</td>\n",
              "      <td>1,2</td>\n",
              "      <td>1.0</td>\n",
              "      <td>29.799</td>\n",
              "    </tr>\n",
              "    <tr>\n",
              "      <th>4</th>\n",
              "      <td>2015-01-05</td>\n",
              "      <td>23,82</td>\n",
              "      <td>21</td>\n",
              "      <td>28,3</td>\n",
              "      <td>0</td>\n",
              "      <td>0.0</td>\n",
              "      <td>28.900</td>\n",
              "    </tr>\n",
              "    <tr>\n",
              "      <th>5</th>\n",
              "      <td>2015-01-06</td>\n",
              "      <td>23,78</td>\n",
              "      <td>20,1</td>\n",
              "      <td>30,5</td>\n",
              "      <td>12,2</td>\n",
              "      <td>0.0</td>\n",
              "      <td>28.218</td>\n",
              "    </tr>\n",
              "    <tr>\n",
              "      <th>6</th>\n",
              "      <td>2015-01-07</td>\n",
              "      <td>24</td>\n",
              "      <td>19,5</td>\n",
              "      <td>33,7</td>\n",
              "      <td>0</td>\n",
              "      <td>0.0</td>\n",
              "      <td>29.732</td>\n",
              "    </tr>\n",
              "    <tr>\n",
              "      <th>7</th>\n",
              "      <td>2015-01-08</td>\n",
              "      <td>24,9</td>\n",
              "      <td>19,5</td>\n",
              "      <td>32,8</td>\n",
              "      <td>48,6</td>\n",
              "      <td>0.0</td>\n",
              "      <td>28.397</td>\n",
              "    </tr>\n",
              "    <tr>\n",
              "      <th>8</th>\n",
              "      <td>2015-01-09</td>\n",
              "      <td>28,2</td>\n",
              "      <td>21,9</td>\n",
              "      <td>34</td>\n",
              "      <td>4,4</td>\n",
              "      <td>0.0</td>\n",
              "      <td>24.886</td>\n",
              "    </tr>\n",
              "    <tr>\n",
              "      <th>9</th>\n",
              "      <td>2015-01-10</td>\n",
              "      <td>26,76</td>\n",
              "      <td>22,1</td>\n",
              "      <td>34,2</td>\n",
              "      <td>0</td>\n",
              "      <td>1.0</td>\n",
              "      <td>37.937</td>\n",
              "    </tr>\n",
              "  </tbody>\n",
              "</table>\n",
              "</div>\n",
              "      <button class=\"colab-df-convert\" onclick=\"convertToInteractive('df-b97a8c1e-0fdd-46d1-b546-daef0b34dd5d')\"\n",
              "              title=\"Convert this dataframe to an interactive table.\"\n",
              "              style=\"display:none;\">\n",
              "        \n",
              "  <svg xmlns=\"http://www.w3.org/2000/svg\" height=\"24px\"viewBox=\"0 0 24 24\"\n",
              "       width=\"24px\">\n",
              "    <path d=\"M0 0h24v24H0V0z\" fill=\"none\"/>\n",
              "    <path d=\"M18.56 5.44l.94 2.06.94-2.06 2.06-.94-2.06-.94-.94-2.06-.94 2.06-2.06.94zm-11 1L8.5 8.5l.94-2.06 2.06-.94-2.06-.94L8.5 2.5l-.94 2.06-2.06.94zm10 10l.94 2.06.94-2.06 2.06-.94-2.06-.94-.94-2.06-.94 2.06-2.06.94z\"/><path d=\"M17.41 7.96l-1.37-1.37c-.4-.4-.92-.59-1.43-.59-.52 0-1.04.2-1.43.59L10.3 9.45l-7.72 7.72c-.78.78-.78 2.05 0 2.83L4 21.41c.39.39.9.59 1.41.59.51 0 1.02-.2 1.41-.59l7.78-7.78 2.81-2.81c.8-.78.8-2.07 0-2.86zM5.41 20L4 18.59l7.72-7.72 1.47 1.35L5.41 20z\"/>\n",
              "  </svg>\n",
              "      </button>\n",
              "      \n",
              "  <style>\n",
              "    .colab-df-container {\n",
              "      display:flex;\n",
              "      flex-wrap:wrap;\n",
              "      gap: 12px;\n",
              "    }\n",
              "\n",
              "    .colab-df-convert {\n",
              "      background-color: #E8F0FE;\n",
              "      border: none;\n",
              "      border-radius: 50%;\n",
              "      cursor: pointer;\n",
              "      display: none;\n",
              "      fill: #1967D2;\n",
              "      height: 32px;\n",
              "      padding: 0 0 0 0;\n",
              "      width: 32px;\n",
              "    }\n",
              "\n",
              "    .colab-df-convert:hover {\n",
              "      background-color: #E2EBFA;\n",
              "      box-shadow: 0px 1px 2px rgba(60, 64, 67, 0.3), 0px 1px 3px 1px rgba(60, 64, 67, 0.15);\n",
              "      fill: #174EA6;\n",
              "    }\n",
              "\n",
              "    [theme=dark] .colab-df-convert {\n",
              "      background-color: #3B4455;\n",
              "      fill: #D2E3FC;\n",
              "    }\n",
              "\n",
              "    [theme=dark] .colab-df-convert:hover {\n",
              "      background-color: #434B5C;\n",
              "      box-shadow: 0px 1px 3px 1px rgba(0, 0, 0, 0.15);\n",
              "      filter: drop-shadow(0px 1px 2px rgba(0, 0, 0, 0.3));\n",
              "      fill: #FFFFFF;\n",
              "    }\n",
              "  </style>\n",
              "\n",
              "      <script>\n",
              "        const buttonEl =\n",
              "          document.querySelector('#df-b97a8c1e-0fdd-46d1-b546-daef0b34dd5d button.colab-df-convert');\n",
              "        buttonEl.style.display =\n",
              "          google.colab.kernel.accessAllowed ? 'block' : 'none';\n",
              "\n",
              "        async function convertToInteractive(key) {\n",
              "          const element = document.querySelector('#df-b97a8c1e-0fdd-46d1-b546-daef0b34dd5d');\n",
              "          const dataTable =\n",
              "            await google.colab.kernel.invokeFunction('convertToInteractive',\n",
              "                                                     [key], {});\n",
              "          if (!dataTable) return;\n",
              "\n",
              "          const docLinkHtml = 'Like what you see? Visit the ' +\n",
              "            '<a target=\"_blank\" href=https://colab.research.google.com/notebooks/data_table.ipynb>data table notebook</a>'\n",
              "            + ' to learn more about interactive tables.';\n",
              "          element.innerHTML = '';\n",
              "          dataTable['output_type'] = 'display_data';\n",
              "          await google.colab.output.renderOutput(dataTable, element);\n",
              "          const docLink = document.createElement('div');\n",
              "          docLink.innerHTML = docLinkHtml;\n",
              "          element.appendChild(docLink);\n",
              "        }\n",
              "      </script>\n",
              "    </div>\n",
              "  </div>\n",
              "  "
            ]
          },
          "metadata": {},
          "execution_count": 4
        }
      ]
    },
    {
      "cell_type": "code",
      "source": [
        "# analisando os 10 últimos elementos do conjunto de dados\n",
        "dados.tail(10)"
      ],
      "metadata": {
        "id": "O_ZRCosOwr5m",
        "colab": {
          "base_uri": "https://localhost:8080/",
          "height": 363
        },
        "outputId": "e4840f89-2330-4d44-9571-228c78e7dc59"
      },
      "execution_count": null,
      "outputs": [
        {
          "output_type": "execute_result",
          "data": {
            "text/plain": [
              "    Data Temperatura Media (C) Temperatura Minima (C) Temperatura Maxima (C)  \\\n",
              "931  NaN                   NaN                    NaN                    NaN   \n",
              "932  NaN                   NaN                    NaN                    NaN   \n",
              "933  NaN                   NaN                    NaN                    NaN   \n",
              "934  NaN                   NaN                    NaN                    NaN   \n",
              "935  NaN                   NaN                    NaN                    NaN   \n",
              "936  NaN                   NaN                    NaN                    NaN   \n",
              "937  NaN                   NaN                    NaN                    NaN   \n",
              "938  NaN                   NaN                    NaN                    NaN   \n",
              "939  NaN                   NaN                    NaN                    NaN   \n",
              "940  NaN                   NaN                    NaN                    NaN   \n",
              "\n",
              "    Precipitacao (mm)  Final de Semana  Consumo de cerveja (litros)  \n",
              "931               NaN              NaN                          NaN  \n",
              "932               NaN              NaN                          NaN  \n",
              "933               NaN              NaN                          NaN  \n",
              "934               NaN              NaN                          NaN  \n",
              "935               NaN              NaN                          NaN  \n",
              "936               NaN              NaN                          NaN  \n",
              "937               NaN              NaN                          NaN  \n",
              "938               NaN              NaN                          NaN  \n",
              "939               NaN              NaN                          NaN  \n",
              "940               NaN              NaN                          NaN  "
            ],
            "text/html": [
              "\n",
              "  <div id=\"df-df5db929-96f6-4329-a808-205cf557715c\">\n",
              "    <div class=\"colab-df-container\">\n",
              "      <div>\n",
              "<style scoped>\n",
              "    .dataframe tbody tr th:only-of-type {\n",
              "        vertical-align: middle;\n",
              "    }\n",
              "\n",
              "    .dataframe tbody tr th {\n",
              "        vertical-align: top;\n",
              "    }\n",
              "\n",
              "    .dataframe thead th {\n",
              "        text-align: right;\n",
              "    }\n",
              "</style>\n",
              "<table border=\"1\" class=\"dataframe\">\n",
              "  <thead>\n",
              "    <tr style=\"text-align: right;\">\n",
              "      <th></th>\n",
              "      <th>Data</th>\n",
              "      <th>Temperatura Media (C)</th>\n",
              "      <th>Temperatura Minima (C)</th>\n",
              "      <th>Temperatura Maxima (C)</th>\n",
              "      <th>Precipitacao (mm)</th>\n",
              "      <th>Final de Semana</th>\n",
              "      <th>Consumo de cerveja (litros)</th>\n",
              "    </tr>\n",
              "  </thead>\n",
              "  <tbody>\n",
              "    <tr>\n",
              "      <th>931</th>\n",
              "      <td>NaN</td>\n",
              "      <td>NaN</td>\n",
              "      <td>NaN</td>\n",
              "      <td>NaN</td>\n",
              "      <td>NaN</td>\n",
              "      <td>NaN</td>\n",
              "      <td>NaN</td>\n",
              "    </tr>\n",
              "    <tr>\n",
              "      <th>932</th>\n",
              "      <td>NaN</td>\n",
              "      <td>NaN</td>\n",
              "      <td>NaN</td>\n",
              "      <td>NaN</td>\n",
              "      <td>NaN</td>\n",
              "      <td>NaN</td>\n",
              "      <td>NaN</td>\n",
              "    </tr>\n",
              "    <tr>\n",
              "      <th>933</th>\n",
              "      <td>NaN</td>\n",
              "      <td>NaN</td>\n",
              "      <td>NaN</td>\n",
              "      <td>NaN</td>\n",
              "      <td>NaN</td>\n",
              "      <td>NaN</td>\n",
              "      <td>NaN</td>\n",
              "    </tr>\n",
              "    <tr>\n",
              "      <th>934</th>\n",
              "      <td>NaN</td>\n",
              "      <td>NaN</td>\n",
              "      <td>NaN</td>\n",
              "      <td>NaN</td>\n",
              "      <td>NaN</td>\n",
              "      <td>NaN</td>\n",
              "      <td>NaN</td>\n",
              "    </tr>\n",
              "    <tr>\n",
              "      <th>935</th>\n",
              "      <td>NaN</td>\n",
              "      <td>NaN</td>\n",
              "      <td>NaN</td>\n",
              "      <td>NaN</td>\n",
              "      <td>NaN</td>\n",
              "      <td>NaN</td>\n",
              "      <td>NaN</td>\n",
              "    </tr>\n",
              "    <tr>\n",
              "      <th>936</th>\n",
              "      <td>NaN</td>\n",
              "      <td>NaN</td>\n",
              "      <td>NaN</td>\n",
              "      <td>NaN</td>\n",
              "      <td>NaN</td>\n",
              "      <td>NaN</td>\n",
              "      <td>NaN</td>\n",
              "    </tr>\n",
              "    <tr>\n",
              "      <th>937</th>\n",
              "      <td>NaN</td>\n",
              "      <td>NaN</td>\n",
              "      <td>NaN</td>\n",
              "      <td>NaN</td>\n",
              "      <td>NaN</td>\n",
              "      <td>NaN</td>\n",
              "      <td>NaN</td>\n",
              "    </tr>\n",
              "    <tr>\n",
              "      <th>938</th>\n",
              "      <td>NaN</td>\n",
              "      <td>NaN</td>\n",
              "      <td>NaN</td>\n",
              "      <td>NaN</td>\n",
              "      <td>NaN</td>\n",
              "      <td>NaN</td>\n",
              "      <td>NaN</td>\n",
              "    </tr>\n",
              "    <tr>\n",
              "      <th>939</th>\n",
              "      <td>NaN</td>\n",
              "      <td>NaN</td>\n",
              "      <td>NaN</td>\n",
              "      <td>NaN</td>\n",
              "      <td>NaN</td>\n",
              "      <td>NaN</td>\n",
              "      <td>NaN</td>\n",
              "    </tr>\n",
              "    <tr>\n",
              "      <th>940</th>\n",
              "      <td>NaN</td>\n",
              "      <td>NaN</td>\n",
              "      <td>NaN</td>\n",
              "      <td>NaN</td>\n",
              "      <td>NaN</td>\n",
              "      <td>NaN</td>\n",
              "      <td>NaN</td>\n",
              "    </tr>\n",
              "  </tbody>\n",
              "</table>\n",
              "</div>\n",
              "      <button class=\"colab-df-convert\" onclick=\"convertToInteractive('df-df5db929-96f6-4329-a808-205cf557715c')\"\n",
              "              title=\"Convert this dataframe to an interactive table.\"\n",
              "              style=\"display:none;\">\n",
              "        \n",
              "  <svg xmlns=\"http://www.w3.org/2000/svg\" height=\"24px\"viewBox=\"0 0 24 24\"\n",
              "       width=\"24px\">\n",
              "    <path d=\"M0 0h24v24H0V0z\" fill=\"none\"/>\n",
              "    <path d=\"M18.56 5.44l.94 2.06.94-2.06 2.06-.94-2.06-.94-.94-2.06-.94 2.06-2.06.94zm-11 1L8.5 8.5l.94-2.06 2.06-.94-2.06-.94L8.5 2.5l-.94 2.06-2.06.94zm10 10l.94 2.06.94-2.06 2.06-.94-2.06-.94-.94-2.06-.94 2.06-2.06.94z\"/><path d=\"M17.41 7.96l-1.37-1.37c-.4-.4-.92-.59-1.43-.59-.52 0-1.04.2-1.43.59L10.3 9.45l-7.72 7.72c-.78.78-.78 2.05 0 2.83L4 21.41c.39.39.9.59 1.41.59.51 0 1.02-.2 1.41-.59l7.78-7.78 2.81-2.81c.8-.78.8-2.07 0-2.86zM5.41 20L4 18.59l7.72-7.72 1.47 1.35L5.41 20z\"/>\n",
              "  </svg>\n",
              "      </button>\n",
              "      \n",
              "  <style>\n",
              "    .colab-df-container {\n",
              "      display:flex;\n",
              "      flex-wrap:wrap;\n",
              "      gap: 12px;\n",
              "    }\n",
              "\n",
              "    .colab-df-convert {\n",
              "      background-color: #E8F0FE;\n",
              "      border: none;\n",
              "      border-radius: 50%;\n",
              "      cursor: pointer;\n",
              "      display: none;\n",
              "      fill: #1967D2;\n",
              "      height: 32px;\n",
              "      padding: 0 0 0 0;\n",
              "      width: 32px;\n",
              "    }\n",
              "\n",
              "    .colab-df-convert:hover {\n",
              "      background-color: #E2EBFA;\n",
              "      box-shadow: 0px 1px 2px rgba(60, 64, 67, 0.3), 0px 1px 3px 1px rgba(60, 64, 67, 0.15);\n",
              "      fill: #174EA6;\n",
              "    }\n",
              "\n",
              "    [theme=dark] .colab-df-convert {\n",
              "      background-color: #3B4455;\n",
              "      fill: #D2E3FC;\n",
              "    }\n",
              "\n",
              "    [theme=dark] .colab-df-convert:hover {\n",
              "      background-color: #434B5C;\n",
              "      box-shadow: 0px 1px 3px 1px rgba(0, 0, 0, 0.15);\n",
              "      filter: drop-shadow(0px 1px 2px rgba(0, 0, 0, 0.3));\n",
              "      fill: #FFFFFF;\n",
              "    }\n",
              "  </style>\n",
              "\n",
              "      <script>\n",
              "        const buttonEl =\n",
              "          document.querySelector('#df-df5db929-96f6-4329-a808-205cf557715c button.colab-df-convert');\n",
              "        buttonEl.style.display =\n",
              "          google.colab.kernel.accessAllowed ? 'block' : 'none';\n",
              "\n",
              "        async function convertToInteractive(key) {\n",
              "          const element = document.querySelector('#df-df5db929-96f6-4329-a808-205cf557715c');\n",
              "          const dataTable =\n",
              "            await google.colab.kernel.invokeFunction('convertToInteractive',\n",
              "                                                     [key], {});\n",
              "          if (!dataTable) return;\n",
              "\n",
              "          const docLinkHtml = 'Like what you see? Visit the ' +\n",
              "            '<a target=\"_blank\" href=https://colab.research.google.com/notebooks/data_table.ipynb>data table notebook</a>'\n",
              "            + ' to learn more about interactive tables.';\n",
              "          element.innerHTML = '';\n",
              "          dataTable['output_type'] = 'display_data';\n",
              "          await google.colab.output.renderOutput(dataTable, element);\n",
              "          const docLink = document.createElement('div');\n",
              "          docLink.innerHTML = docLinkHtml;\n",
              "          element.appendChild(docLink);\n",
              "        }\n",
              "      </script>\n",
              "    </div>\n",
              "  </div>\n",
              "  "
            ]
          },
          "metadata": {},
          "execution_count": 5
        }
      ]
    },
    {
      "cell_type": "code",
      "source": [
        "# obtendo as informações iniciais da base de dados\n",
        "dados.info()"
      ],
      "metadata": {
        "colab": {
          "base_uri": "https://localhost:8080/"
        },
        "id": "iqR86AAcElhD",
        "outputId": "38444b76-bc7a-422a-dd5f-5a2ecf215caf"
      },
      "execution_count": null,
      "outputs": [
        {
          "output_type": "stream",
          "name": "stdout",
          "text": [
            "<class 'pandas.core.frame.DataFrame'>\n",
            "RangeIndex: 941 entries, 0 to 940\n",
            "Data columns (total 7 columns):\n",
            " #   Column                       Non-Null Count  Dtype  \n",
            "---  ------                       --------------  -----  \n",
            " 0   Data                         365 non-null    object \n",
            " 1   Temperatura Media (C)        365 non-null    object \n",
            " 2   Temperatura Minima (C)       365 non-null    object \n",
            " 3   Temperatura Maxima (C)       365 non-null    object \n",
            " 4   Precipitacao (mm)            365 non-null    object \n",
            " 5   Final de Semana              365 non-null    float64\n",
            " 6   Consumo de cerveja (litros)  365 non-null    float64\n",
            "dtypes: float64(2), object(5)\n",
            "memory usage: 51.6+ KB\n"
          ]
        }
      ]
    },
    {
      "cell_type": "code",
      "source": [
        "# obtendo a descrição da base de dados\n",
        "dados.describe()"
      ],
      "metadata": {
        "colab": {
          "base_uri": "https://localhost:8080/",
          "height": 300
        },
        "id": "CHKsCPHezAlv",
        "outputId": "3b279c02-4e67-4510-cbdd-b53e1b0df68b"
      },
      "execution_count": null,
      "outputs": [
        {
          "output_type": "execute_result",
          "data": {
            "text/plain": [
              "       Final de Semana  Consumo de cerveja (litros)\n",
              "count       365.000000                   365.000000\n",
              "mean          0.284932                    25.401367\n",
              "std           0.452001                     4.399143\n",
              "min           0.000000                    14.343000\n",
              "25%           0.000000                    22.008000\n",
              "50%           0.000000                    24.867000\n",
              "75%           1.000000                    28.631000\n",
              "max           1.000000                    37.937000"
            ],
            "text/html": [
              "\n",
              "  <div id=\"df-47e2b66b-5f41-44b1-aa1a-a32b1da86ff1\">\n",
              "    <div class=\"colab-df-container\">\n",
              "      <div>\n",
              "<style scoped>\n",
              "    .dataframe tbody tr th:only-of-type {\n",
              "        vertical-align: middle;\n",
              "    }\n",
              "\n",
              "    .dataframe tbody tr th {\n",
              "        vertical-align: top;\n",
              "    }\n",
              "\n",
              "    .dataframe thead th {\n",
              "        text-align: right;\n",
              "    }\n",
              "</style>\n",
              "<table border=\"1\" class=\"dataframe\">\n",
              "  <thead>\n",
              "    <tr style=\"text-align: right;\">\n",
              "      <th></th>\n",
              "      <th>Final de Semana</th>\n",
              "      <th>Consumo de cerveja (litros)</th>\n",
              "    </tr>\n",
              "  </thead>\n",
              "  <tbody>\n",
              "    <tr>\n",
              "      <th>count</th>\n",
              "      <td>365.000000</td>\n",
              "      <td>365.000000</td>\n",
              "    </tr>\n",
              "    <tr>\n",
              "      <th>mean</th>\n",
              "      <td>0.284932</td>\n",
              "      <td>25.401367</td>\n",
              "    </tr>\n",
              "    <tr>\n",
              "      <th>std</th>\n",
              "      <td>0.452001</td>\n",
              "      <td>4.399143</td>\n",
              "    </tr>\n",
              "    <tr>\n",
              "      <th>min</th>\n",
              "      <td>0.000000</td>\n",
              "      <td>14.343000</td>\n",
              "    </tr>\n",
              "    <tr>\n",
              "      <th>25%</th>\n",
              "      <td>0.000000</td>\n",
              "      <td>22.008000</td>\n",
              "    </tr>\n",
              "    <tr>\n",
              "      <th>50%</th>\n",
              "      <td>0.000000</td>\n",
              "      <td>24.867000</td>\n",
              "    </tr>\n",
              "    <tr>\n",
              "      <th>75%</th>\n",
              "      <td>1.000000</td>\n",
              "      <td>28.631000</td>\n",
              "    </tr>\n",
              "    <tr>\n",
              "      <th>max</th>\n",
              "      <td>1.000000</td>\n",
              "      <td>37.937000</td>\n",
              "    </tr>\n",
              "  </tbody>\n",
              "</table>\n",
              "</div>\n",
              "      <button class=\"colab-df-convert\" onclick=\"convertToInteractive('df-47e2b66b-5f41-44b1-aa1a-a32b1da86ff1')\"\n",
              "              title=\"Convert this dataframe to an interactive table.\"\n",
              "              style=\"display:none;\">\n",
              "        \n",
              "  <svg xmlns=\"http://www.w3.org/2000/svg\" height=\"24px\"viewBox=\"0 0 24 24\"\n",
              "       width=\"24px\">\n",
              "    <path d=\"M0 0h24v24H0V0z\" fill=\"none\"/>\n",
              "    <path d=\"M18.56 5.44l.94 2.06.94-2.06 2.06-.94-2.06-.94-.94-2.06-.94 2.06-2.06.94zm-11 1L8.5 8.5l.94-2.06 2.06-.94-2.06-.94L8.5 2.5l-.94 2.06-2.06.94zm10 10l.94 2.06.94-2.06 2.06-.94-2.06-.94-.94-2.06-.94 2.06-2.06.94z\"/><path d=\"M17.41 7.96l-1.37-1.37c-.4-.4-.92-.59-1.43-.59-.52 0-1.04.2-1.43.59L10.3 9.45l-7.72 7.72c-.78.78-.78 2.05 0 2.83L4 21.41c.39.39.9.59 1.41.59.51 0 1.02-.2 1.41-.59l7.78-7.78 2.81-2.81c.8-.78.8-2.07 0-2.86zM5.41 20L4 18.59l7.72-7.72 1.47 1.35L5.41 20z\"/>\n",
              "  </svg>\n",
              "      </button>\n",
              "      \n",
              "  <style>\n",
              "    .colab-df-container {\n",
              "      display:flex;\n",
              "      flex-wrap:wrap;\n",
              "      gap: 12px;\n",
              "    }\n",
              "\n",
              "    .colab-df-convert {\n",
              "      background-color: #E8F0FE;\n",
              "      border: none;\n",
              "      border-radius: 50%;\n",
              "      cursor: pointer;\n",
              "      display: none;\n",
              "      fill: #1967D2;\n",
              "      height: 32px;\n",
              "      padding: 0 0 0 0;\n",
              "      width: 32px;\n",
              "    }\n",
              "\n",
              "    .colab-df-convert:hover {\n",
              "      background-color: #E2EBFA;\n",
              "      box-shadow: 0px 1px 2px rgba(60, 64, 67, 0.3), 0px 1px 3px 1px rgba(60, 64, 67, 0.15);\n",
              "      fill: #174EA6;\n",
              "    }\n",
              "\n",
              "    [theme=dark] .colab-df-convert {\n",
              "      background-color: #3B4455;\n",
              "      fill: #D2E3FC;\n",
              "    }\n",
              "\n",
              "    [theme=dark] .colab-df-convert:hover {\n",
              "      background-color: #434B5C;\n",
              "      box-shadow: 0px 1px 3px 1px rgba(0, 0, 0, 0.15);\n",
              "      filter: drop-shadow(0px 1px 2px rgba(0, 0, 0, 0.3));\n",
              "      fill: #FFFFFF;\n",
              "    }\n",
              "  </style>\n",
              "\n",
              "      <script>\n",
              "        const buttonEl =\n",
              "          document.querySelector('#df-47e2b66b-5f41-44b1-aa1a-a32b1da86ff1 button.colab-df-convert');\n",
              "        buttonEl.style.display =\n",
              "          google.colab.kernel.accessAllowed ? 'block' : 'none';\n",
              "\n",
              "        async function convertToInteractive(key) {\n",
              "          const element = document.querySelector('#df-47e2b66b-5f41-44b1-aa1a-a32b1da86ff1');\n",
              "          const dataTable =\n",
              "            await google.colab.kernel.invokeFunction('convertToInteractive',\n",
              "                                                     [key], {});\n",
              "          if (!dataTable) return;\n",
              "\n",
              "          const docLinkHtml = 'Like what you see? Visit the ' +\n",
              "            '<a target=\"_blank\" href=https://colab.research.google.com/notebooks/data_table.ipynb>data table notebook</a>'\n",
              "            + ' to learn more about interactive tables.';\n",
              "          element.innerHTML = '';\n",
              "          dataTable['output_type'] = 'display_data';\n",
              "          await google.colab.output.renderOutput(dataTable, element);\n",
              "          const docLink = document.createElement('div');\n",
              "          docLink.innerHTML = docLinkHtml;\n",
              "          element.appendChild(docLink);\n",
              "        }\n",
              "      </script>\n",
              "    </div>\n",
              "  </div>\n",
              "  "
            ]
          },
          "metadata": {},
          "execution_count": 7
        }
      ]
    },
    {
      "cell_type": "markdown",
      "source": [
        ">**Note que na descrição da base de dados apenas as colunas com valores do tipo float foram consideradas, é necessário realizarmos um tratamento dos tipos de dados das demais colunas.**"
      ],
      "metadata": {
        "id": "2hch1FB6zYv0"
      }
    },
    {
      "cell_type": "code",
      "source": [
        "# alterando os rótulos das colunas\n",
        "dados.columns = ['data','temperatura_media','temperatura_minima','temperatura_maxima','precipitacao','fim_de_semana','consumo_de_cerveja']"
      ],
      "metadata": {
        "id": "xt4zGV3Mp3pe"
      },
      "execution_count": null,
      "outputs": []
    },
    {
      "cell_type": "code",
      "source": [
        "# verificando se há dados não númericos (Not a Number - NaN)\n",
        "dados.isna().sum()"
      ],
      "metadata": {
        "colab": {
          "base_uri": "https://localhost:8080/"
        },
        "id": "Iz4eX2hN6Ijp",
        "outputId": "91c4b62f-27b8-419f-a0f6-7ead5d667b92"
      },
      "execution_count": null,
      "outputs": [
        {
          "output_type": "execute_result",
          "data": {
            "text/plain": [
              "data                  576\n",
              "temperatura_media     576\n",
              "temperatura_minima    576\n",
              "temperatura_maxima    576\n",
              "precipitacao          576\n",
              "fim_de_semana         576\n",
              "consumo_de_cerveja    576\n",
              "dtype: int64"
            ]
          },
          "metadata": {},
          "execution_count": 9
        }
      ]
    },
    {
      "cell_type": "code",
      "source": [
        "# removendo apenas as linhas com todos os valores não númericos\n",
        "dados.dropna(axis=0,how=\"all\",inplace=True)"
      ],
      "metadata": {
        "id": "r1Csp51I1A-z"
      },
      "execution_count": null,
      "outputs": []
    },
    {
      "cell_type": "code",
      "source": [
        "# verificando se ainda há dados não númericos\n",
        "dados.isna().sum()"
      ],
      "metadata": {
        "id": "h_j3otG04P-S",
        "colab": {
          "base_uri": "https://localhost:8080/"
        },
        "outputId": "b2c5237b-3b82-4768-8536-e01ad6f946cd"
      },
      "execution_count": null,
      "outputs": [
        {
          "output_type": "execute_result",
          "data": {
            "text/plain": [
              "data                  0\n",
              "temperatura_media     0\n",
              "temperatura_minima    0\n",
              "temperatura_maxima    0\n",
              "precipitacao          0\n",
              "fim_de_semana         0\n",
              "consumo_de_cerveja    0\n",
              "dtype: int64"
            ]
          },
          "metadata": {},
          "execution_count": 11
        }
      ]
    },
    {
      "cell_type": "code",
      "source": [
        "# verificando se há dados nulos\n",
        "dados.isnull().sum()"
      ],
      "metadata": {
        "id": "gwyFovWD5YaB",
        "colab": {
          "base_uri": "https://localhost:8080/"
        },
        "outputId": "5dd4c1d0-47a7-42bd-c305-1d89676cc183"
      },
      "execution_count": null,
      "outputs": [
        {
          "output_type": "execute_result",
          "data": {
            "text/plain": [
              "data                  0\n",
              "temperatura_media     0\n",
              "temperatura_minima    0\n",
              "temperatura_maxima    0\n",
              "precipitacao          0\n",
              "fim_de_semana         0\n",
              "consumo_de_cerveja    0\n",
              "dtype: int64"
            ]
          },
          "metadata": {},
          "execution_count": 12
        }
      ]
    },
    {
      "cell_type": "markdown",
      "source": [
        "##**Tratamento dos Tipos de Dados**"
      ],
      "metadata": {
        "id": "WpPUSyqm1MwJ"
      }
    },
    {
      "cell_type": "code",
      "source": [
        "# convertendo o tipo de dados da coluna data\n",
        "dados['data'] = pd.to_datetime(dados['data'])\n",
        "dados.info()"
      ],
      "metadata": {
        "colab": {
          "base_uri": "https://localhost:8080/"
        },
        "id": "MfDiZGc9z8B-",
        "outputId": "7830a9f7-b1f6-417c-ddf3-c33a653bbc4e"
      },
      "execution_count": null,
      "outputs": [
        {
          "output_type": "stream",
          "name": "stdout",
          "text": [
            "<class 'pandas.core.frame.DataFrame'>\n",
            "Int64Index: 365 entries, 0 to 364\n",
            "Data columns (total 7 columns):\n",
            " #   Column              Non-Null Count  Dtype         \n",
            "---  ------              --------------  -----         \n",
            " 0   data                365 non-null    datetime64[ns]\n",
            " 1   temperatura_media   365 non-null    object        \n",
            " 2   temperatura_minima  365 non-null    object        \n",
            " 3   temperatura_maxima  365 non-null    object        \n",
            " 4   precipitacao        365 non-null    object        \n",
            " 5   fim_de_semana       365 non-null    float64       \n",
            " 6   consumo_de_cerveja  365 non-null    float64       \n",
            "dtypes: datetime64[ns](1), float64(2), object(4)\n",
            "memory usage: 22.8+ KB\n"
          ]
        }
      ]
    },
    {
      "cell_type": "code",
      "source": [
        "# função para alterar os dados para o tipo float\n",
        "def altera_tipo_para_float(nome_coluna):\n",
        "  dados[nome_coluna] = dados[nome_coluna].str.replace(',', '.')\n",
        "  dados[nome_coluna] = dados[nome_coluna].astype(float)"
      ],
      "metadata": {
        "id": "LA94dwflL4zs"
      },
      "execution_count": null,
      "outputs": []
    },
    {
      "cell_type": "code",
      "source": [
        "# alterando os dados do tipo object para float\n",
        "altera_tipo_para_float('temperatura_media')\n",
        "altera_tipo_para_float('temperatura_minima')\n",
        "altera_tipo_para_float('temperatura_maxima')\n",
        "altera_tipo_para_float('precipitacao')"
      ],
      "metadata": {
        "id": "aZ8SDkHCTaHE"
      },
      "execution_count": null,
      "outputs": []
    },
    {
      "cell_type": "code",
      "source": [
        "# verificando as alterações dos tipos de dados\n",
        "dados.info()"
      ],
      "metadata": {
        "colab": {
          "base_uri": "https://localhost:8080/"
        },
        "id": "80lmhrTisTIS",
        "outputId": "f324a5dc-5edb-4baa-ed30-31e3b15a3726"
      },
      "execution_count": null,
      "outputs": [
        {
          "output_type": "stream",
          "name": "stdout",
          "text": [
            "<class 'pandas.core.frame.DataFrame'>\n",
            "Int64Index: 365 entries, 0 to 364\n",
            "Data columns (total 7 columns):\n",
            " #   Column              Non-Null Count  Dtype         \n",
            "---  ------              --------------  -----         \n",
            " 0   data                365 non-null    datetime64[ns]\n",
            " 1   temperatura_media   365 non-null    float64       \n",
            " 2   temperatura_minima  365 non-null    float64       \n",
            " 3   temperatura_maxima  365 non-null    float64       \n",
            " 4   precipitacao        365 non-null    float64       \n",
            " 5   fim_de_semana       365 non-null    float64       \n",
            " 6   consumo_de_cerveja  365 non-null    float64       \n",
            "dtypes: datetime64[ns](1), float64(6)\n",
            "memory usage: 22.8 KB\n"
          ]
        }
      ]
    },
    {
      "cell_type": "code",
      "source": [
        "# obtendo a descrição da base de dados\n",
        "dados.describe()"
      ],
      "metadata": {
        "colab": {
          "base_uri": "https://localhost:8080/",
          "height": 300
        },
        "id": "qRg2Q40oF6E_",
        "outputId": "ac68e244-0814-4438-bc03-21c1ff940b4c"
      },
      "execution_count": null,
      "outputs": [
        {
          "output_type": "execute_result",
          "data": {
            "text/plain": [
              "       temperatura_media  temperatura_minima  temperatura_maxima  \\\n",
              "count         365.000000          365.000000          365.000000   \n",
              "mean           21.226356           17.461370           26.611507   \n",
              "std             3.180108            2.826185            4.317366   \n",
              "min            12.900000           10.600000           14.500000   \n",
              "25%            19.020000           15.300000           23.800000   \n",
              "50%            21.380000           17.900000           26.900000   \n",
              "75%            23.280000           19.600000           29.400000   \n",
              "max            28.860000           24.500000           36.500000   \n",
              "\n",
              "       precipitacao  fim_de_semana  consumo_de_cerveja  \n",
              "count    365.000000     365.000000          365.000000  \n",
              "mean       5.196712       0.284932           25.401367  \n",
              "std       12.417844       0.452001            4.399143  \n",
              "min        0.000000       0.000000           14.343000  \n",
              "25%        0.000000       0.000000           22.008000  \n",
              "50%        0.000000       0.000000           24.867000  \n",
              "75%        3.200000       1.000000           28.631000  \n",
              "max       94.800000       1.000000           37.937000  "
            ],
            "text/html": [
              "\n",
              "  <div id=\"df-896c76bf-c057-4c4b-8704-4cdfe14cfde6\">\n",
              "    <div class=\"colab-df-container\">\n",
              "      <div>\n",
              "<style scoped>\n",
              "    .dataframe tbody tr th:only-of-type {\n",
              "        vertical-align: middle;\n",
              "    }\n",
              "\n",
              "    .dataframe tbody tr th {\n",
              "        vertical-align: top;\n",
              "    }\n",
              "\n",
              "    .dataframe thead th {\n",
              "        text-align: right;\n",
              "    }\n",
              "</style>\n",
              "<table border=\"1\" class=\"dataframe\">\n",
              "  <thead>\n",
              "    <tr style=\"text-align: right;\">\n",
              "      <th></th>\n",
              "      <th>temperatura_media</th>\n",
              "      <th>temperatura_minima</th>\n",
              "      <th>temperatura_maxima</th>\n",
              "      <th>precipitacao</th>\n",
              "      <th>fim_de_semana</th>\n",
              "      <th>consumo_de_cerveja</th>\n",
              "    </tr>\n",
              "  </thead>\n",
              "  <tbody>\n",
              "    <tr>\n",
              "      <th>count</th>\n",
              "      <td>365.000000</td>\n",
              "      <td>365.000000</td>\n",
              "      <td>365.000000</td>\n",
              "      <td>365.000000</td>\n",
              "      <td>365.000000</td>\n",
              "      <td>365.000000</td>\n",
              "    </tr>\n",
              "    <tr>\n",
              "      <th>mean</th>\n",
              "      <td>21.226356</td>\n",
              "      <td>17.461370</td>\n",
              "      <td>26.611507</td>\n",
              "      <td>5.196712</td>\n",
              "      <td>0.284932</td>\n",
              "      <td>25.401367</td>\n",
              "    </tr>\n",
              "    <tr>\n",
              "      <th>std</th>\n",
              "      <td>3.180108</td>\n",
              "      <td>2.826185</td>\n",
              "      <td>4.317366</td>\n",
              "      <td>12.417844</td>\n",
              "      <td>0.452001</td>\n",
              "      <td>4.399143</td>\n",
              "    </tr>\n",
              "    <tr>\n",
              "      <th>min</th>\n",
              "      <td>12.900000</td>\n",
              "      <td>10.600000</td>\n",
              "      <td>14.500000</td>\n",
              "      <td>0.000000</td>\n",
              "      <td>0.000000</td>\n",
              "      <td>14.343000</td>\n",
              "    </tr>\n",
              "    <tr>\n",
              "      <th>25%</th>\n",
              "      <td>19.020000</td>\n",
              "      <td>15.300000</td>\n",
              "      <td>23.800000</td>\n",
              "      <td>0.000000</td>\n",
              "      <td>0.000000</td>\n",
              "      <td>22.008000</td>\n",
              "    </tr>\n",
              "    <tr>\n",
              "      <th>50%</th>\n",
              "      <td>21.380000</td>\n",
              "      <td>17.900000</td>\n",
              "      <td>26.900000</td>\n",
              "      <td>0.000000</td>\n",
              "      <td>0.000000</td>\n",
              "      <td>24.867000</td>\n",
              "    </tr>\n",
              "    <tr>\n",
              "      <th>75%</th>\n",
              "      <td>23.280000</td>\n",
              "      <td>19.600000</td>\n",
              "      <td>29.400000</td>\n",
              "      <td>3.200000</td>\n",
              "      <td>1.000000</td>\n",
              "      <td>28.631000</td>\n",
              "    </tr>\n",
              "    <tr>\n",
              "      <th>max</th>\n",
              "      <td>28.860000</td>\n",
              "      <td>24.500000</td>\n",
              "      <td>36.500000</td>\n",
              "      <td>94.800000</td>\n",
              "      <td>1.000000</td>\n",
              "      <td>37.937000</td>\n",
              "    </tr>\n",
              "  </tbody>\n",
              "</table>\n",
              "</div>\n",
              "      <button class=\"colab-df-convert\" onclick=\"convertToInteractive('df-896c76bf-c057-4c4b-8704-4cdfe14cfde6')\"\n",
              "              title=\"Convert this dataframe to an interactive table.\"\n",
              "              style=\"display:none;\">\n",
              "        \n",
              "  <svg xmlns=\"http://www.w3.org/2000/svg\" height=\"24px\"viewBox=\"0 0 24 24\"\n",
              "       width=\"24px\">\n",
              "    <path d=\"M0 0h24v24H0V0z\" fill=\"none\"/>\n",
              "    <path d=\"M18.56 5.44l.94 2.06.94-2.06 2.06-.94-2.06-.94-.94-2.06-.94 2.06-2.06.94zm-11 1L8.5 8.5l.94-2.06 2.06-.94-2.06-.94L8.5 2.5l-.94 2.06-2.06.94zm10 10l.94 2.06.94-2.06 2.06-.94-2.06-.94-.94-2.06-.94 2.06-2.06.94z\"/><path d=\"M17.41 7.96l-1.37-1.37c-.4-.4-.92-.59-1.43-.59-.52 0-1.04.2-1.43.59L10.3 9.45l-7.72 7.72c-.78.78-.78 2.05 0 2.83L4 21.41c.39.39.9.59 1.41.59.51 0 1.02-.2 1.41-.59l7.78-7.78 2.81-2.81c.8-.78.8-2.07 0-2.86zM5.41 20L4 18.59l7.72-7.72 1.47 1.35L5.41 20z\"/>\n",
              "  </svg>\n",
              "      </button>\n",
              "      \n",
              "  <style>\n",
              "    .colab-df-container {\n",
              "      display:flex;\n",
              "      flex-wrap:wrap;\n",
              "      gap: 12px;\n",
              "    }\n",
              "\n",
              "    .colab-df-convert {\n",
              "      background-color: #E8F0FE;\n",
              "      border: none;\n",
              "      border-radius: 50%;\n",
              "      cursor: pointer;\n",
              "      display: none;\n",
              "      fill: #1967D2;\n",
              "      height: 32px;\n",
              "      padding: 0 0 0 0;\n",
              "      width: 32px;\n",
              "    }\n",
              "\n",
              "    .colab-df-convert:hover {\n",
              "      background-color: #E2EBFA;\n",
              "      box-shadow: 0px 1px 2px rgba(60, 64, 67, 0.3), 0px 1px 3px 1px rgba(60, 64, 67, 0.15);\n",
              "      fill: #174EA6;\n",
              "    }\n",
              "\n",
              "    [theme=dark] .colab-df-convert {\n",
              "      background-color: #3B4455;\n",
              "      fill: #D2E3FC;\n",
              "    }\n",
              "\n",
              "    [theme=dark] .colab-df-convert:hover {\n",
              "      background-color: #434B5C;\n",
              "      box-shadow: 0px 1px 3px 1px rgba(0, 0, 0, 0.15);\n",
              "      filter: drop-shadow(0px 1px 2px rgba(0, 0, 0, 0.3));\n",
              "      fill: #FFFFFF;\n",
              "    }\n",
              "  </style>\n",
              "\n",
              "      <script>\n",
              "        const buttonEl =\n",
              "          document.querySelector('#df-896c76bf-c057-4c4b-8704-4cdfe14cfde6 button.colab-df-convert');\n",
              "        buttonEl.style.display =\n",
              "          google.colab.kernel.accessAllowed ? 'block' : 'none';\n",
              "\n",
              "        async function convertToInteractive(key) {\n",
              "          const element = document.querySelector('#df-896c76bf-c057-4c4b-8704-4cdfe14cfde6');\n",
              "          const dataTable =\n",
              "            await google.colab.kernel.invokeFunction('convertToInteractive',\n",
              "                                                     [key], {});\n",
              "          if (!dataTable) return;\n",
              "\n",
              "          const docLinkHtml = 'Like what you see? Visit the ' +\n",
              "            '<a target=\"_blank\" href=https://colab.research.google.com/notebooks/data_table.ipynb>data table notebook</a>'\n",
              "            + ' to learn more about interactive tables.';\n",
              "          element.innerHTML = '';\n",
              "          dataTable['output_type'] = 'display_data';\n",
              "          await google.colab.output.renderOutput(dataTable, element);\n",
              "          const docLink = document.createElement('div');\n",
              "          docLink.innerHTML = docLinkHtml;\n",
              "          element.appendChild(docLink);\n",
              "        }\n",
              "      </script>\n",
              "    </div>\n",
              "  </div>\n",
              "  "
            ]
          },
          "metadata": {},
          "execution_count": 17
        }
      ]
    },
    {
      "cell_type": "code",
      "source": [
        "# criando a coluna mês\n",
        "dados['mes'] = dados['data'].dt.strftime('%m')"
      ],
      "metadata": {
        "id": "RiRO_4NiWKx1"
      },
      "execution_count": null,
      "outputs": []
    },
    {
      "cell_type": "code",
      "source": [
        "# criando a coluna dia\n",
        "dados['dia'] = dados['data'].dt.day_name()"
      ],
      "metadata": {
        "id": "1yzXuBdUWo-5"
      },
      "execution_count": null,
      "outputs": []
    },
    {
      "cell_type": "code",
      "source": [
        "# alterando os rótulos dos meses\n",
        "mes = {\n",
        "    '01' : 'Janeiro',\n",
        "    '02' : 'Fevereiro',\n",
        "    '03' : 'Março',\n",
        "    '04' : 'Abril', \n",
        "    '05' : 'Maio', \n",
        "    '06' : 'Junho',\n",
        "    '07' : 'Julho',\n",
        "    '08' : 'Agosto',\n",
        "    '09' : 'Setembro',\n",
        "    '10' : 'Outubro',\n",
        "    '11' : 'Novembro',\n",
        "    '12' : 'Dezembro'\n",
        "}\n",
        "dados.mes = dados.mes.map(mes)"
      ],
      "metadata": {
        "id": "UOfiDmjOW3FU"
      },
      "execution_count": null,
      "outputs": []
    },
    {
      "cell_type": "code",
      "source": [
        "# alterando os rótulos dos meses\n",
        "dia = {\n",
        "    'Monday' : 'Segunda',\n",
        "    'Tuesday' : 'Terça',\n",
        "    'Wednesday' : 'Quarta',\n",
        "    'Thursday' : 'Quinta', \n",
        "    'Friday' : 'Sexta', \n",
        "    'Saturday' : 'Sábado',\n",
        "    'Sunday' : 'Domingo'\n",
        "}\n",
        "dados.dia = dados.dia.map(dia)"
      ],
      "metadata": {
        "id": "_Py5lxHtXWkn"
      },
      "execution_count": null,
      "outputs": []
    },
    {
      "cell_type": "code",
      "source": [
        "# deve ser retirado o \".\" da coluna: \"consumo_de_cerveja\" em mil\n",
        "def trata_consumo(consumo_dia:float):\n",
        "  consumo_dia = format(consumo_dia,'.3f').replace(\".\",\"\")\n",
        "  return float(consumo_dia)\n",
        "\n",
        "dados['consumo_de_cerveja'] = dados['consumo_de_cerveja'].apply(trata_consumo)"
      ],
      "metadata": {
        "id": "poGsXakDNxt9"
      },
      "execution_count": null,
      "outputs": []
    },
    {
      "cell_type": "code",
      "source": [
        "# analise final do conjunto de dados pré-processado\n",
        "dados"
      ],
      "metadata": {
        "colab": {
          "base_uri": "https://localhost:8080/",
          "height": 424
        },
        "id": "_999tNj4ebX8",
        "outputId": "0526e834-c0dc-4d9a-843e-bc2381b6bdeb"
      },
      "execution_count": null,
      "outputs": [
        {
          "output_type": "execute_result",
          "data": {
            "text/plain": [
              "          data  temperatura_media  temperatura_minima  temperatura_maxima  \\\n",
              "0   2015-01-01              27.30                23.9                32.5   \n",
              "1   2015-01-02              27.02                24.5                33.5   \n",
              "2   2015-01-03              24.82                22.4                29.9   \n",
              "3   2015-01-04              23.98                21.5                28.6   \n",
              "4   2015-01-05              23.82                21.0                28.3   \n",
              "..         ...                ...                 ...                 ...   \n",
              "360 2015-12-27              24.00                21.1                28.2   \n",
              "361 2015-12-28              22.64                21.1                26.7   \n",
              "362 2015-12-29              21.68                20.3                24.1   \n",
              "363 2015-12-30              21.38                19.3                22.4   \n",
              "364 2015-12-31              24.76                20.2                29.0   \n",
              "\n",
              "     precipitacao  fim_de_semana  consumo_de_cerveja       mes      dia  \n",
              "0             0.0            0.0             25461.0   Janeiro   Quinta  \n",
              "1             0.0            0.0             28972.0   Janeiro    Sexta  \n",
              "2             0.0            1.0             30814.0   Janeiro   Sábado  \n",
              "3             1.2            1.0             29799.0   Janeiro  Domingo  \n",
              "4             0.0            0.0             28900.0   Janeiro  Segunda  \n",
              "..            ...            ...                 ...       ...      ...  \n",
              "360          13.6            1.0             32307.0  Dezembro  Domingo  \n",
              "361           0.0            0.0             26095.0  Dezembro  Segunda  \n",
              "362          10.3            0.0             22309.0  Dezembro    Terça  \n",
              "363           6.3            0.0             20467.0  Dezembro   Quarta  \n",
              "364           0.0            0.0             22446.0  Dezembro   Quinta  \n",
              "\n",
              "[365 rows x 9 columns]"
            ],
            "text/html": [
              "\n",
              "  <div id=\"df-6c427643-50d9-47a9-8bc8-452eec602546\">\n",
              "    <div class=\"colab-df-container\">\n",
              "      <div>\n",
              "<style scoped>\n",
              "    .dataframe tbody tr th:only-of-type {\n",
              "        vertical-align: middle;\n",
              "    }\n",
              "\n",
              "    .dataframe tbody tr th {\n",
              "        vertical-align: top;\n",
              "    }\n",
              "\n",
              "    .dataframe thead th {\n",
              "        text-align: right;\n",
              "    }\n",
              "</style>\n",
              "<table border=\"1\" class=\"dataframe\">\n",
              "  <thead>\n",
              "    <tr style=\"text-align: right;\">\n",
              "      <th></th>\n",
              "      <th>data</th>\n",
              "      <th>temperatura_media</th>\n",
              "      <th>temperatura_minima</th>\n",
              "      <th>temperatura_maxima</th>\n",
              "      <th>precipitacao</th>\n",
              "      <th>fim_de_semana</th>\n",
              "      <th>consumo_de_cerveja</th>\n",
              "      <th>mes</th>\n",
              "      <th>dia</th>\n",
              "    </tr>\n",
              "  </thead>\n",
              "  <tbody>\n",
              "    <tr>\n",
              "      <th>0</th>\n",
              "      <td>2015-01-01</td>\n",
              "      <td>27.30</td>\n",
              "      <td>23.9</td>\n",
              "      <td>32.5</td>\n",
              "      <td>0.0</td>\n",
              "      <td>0.0</td>\n",
              "      <td>25461.0</td>\n",
              "      <td>Janeiro</td>\n",
              "      <td>Quinta</td>\n",
              "    </tr>\n",
              "    <tr>\n",
              "      <th>1</th>\n",
              "      <td>2015-01-02</td>\n",
              "      <td>27.02</td>\n",
              "      <td>24.5</td>\n",
              "      <td>33.5</td>\n",
              "      <td>0.0</td>\n",
              "      <td>0.0</td>\n",
              "      <td>28972.0</td>\n",
              "      <td>Janeiro</td>\n",
              "      <td>Sexta</td>\n",
              "    </tr>\n",
              "    <tr>\n",
              "      <th>2</th>\n",
              "      <td>2015-01-03</td>\n",
              "      <td>24.82</td>\n",
              "      <td>22.4</td>\n",
              "      <td>29.9</td>\n",
              "      <td>0.0</td>\n",
              "      <td>1.0</td>\n",
              "      <td>30814.0</td>\n",
              "      <td>Janeiro</td>\n",
              "      <td>Sábado</td>\n",
              "    </tr>\n",
              "    <tr>\n",
              "      <th>3</th>\n",
              "      <td>2015-01-04</td>\n",
              "      <td>23.98</td>\n",
              "      <td>21.5</td>\n",
              "      <td>28.6</td>\n",
              "      <td>1.2</td>\n",
              "      <td>1.0</td>\n",
              "      <td>29799.0</td>\n",
              "      <td>Janeiro</td>\n",
              "      <td>Domingo</td>\n",
              "    </tr>\n",
              "    <tr>\n",
              "      <th>4</th>\n",
              "      <td>2015-01-05</td>\n",
              "      <td>23.82</td>\n",
              "      <td>21.0</td>\n",
              "      <td>28.3</td>\n",
              "      <td>0.0</td>\n",
              "      <td>0.0</td>\n",
              "      <td>28900.0</td>\n",
              "      <td>Janeiro</td>\n",
              "      <td>Segunda</td>\n",
              "    </tr>\n",
              "    <tr>\n",
              "      <th>...</th>\n",
              "      <td>...</td>\n",
              "      <td>...</td>\n",
              "      <td>...</td>\n",
              "      <td>...</td>\n",
              "      <td>...</td>\n",
              "      <td>...</td>\n",
              "      <td>...</td>\n",
              "      <td>...</td>\n",
              "      <td>...</td>\n",
              "    </tr>\n",
              "    <tr>\n",
              "      <th>360</th>\n",
              "      <td>2015-12-27</td>\n",
              "      <td>24.00</td>\n",
              "      <td>21.1</td>\n",
              "      <td>28.2</td>\n",
              "      <td>13.6</td>\n",
              "      <td>1.0</td>\n",
              "      <td>32307.0</td>\n",
              "      <td>Dezembro</td>\n",
              "      <td>Domingo</td>\n",
              "    </tr>\n",
              "    <tr>\n",
              "      <th>361</th>\n",
              "      <td>2015-12-28</td>\n",
              "      <td>22.64</td>\n",
              "      <td>21.1</td>\n",
              "      <td>26.7</td>\n",
              "      <td>0.0</td>\n",
              "      <td>0.0</td>\n",
              "      <td>26095.0</td>\n",
              "      <td>Dezembro</td>\n",
              "      <td>Segunda</td>\n",
              "    </tr>\n",
              "    <tr>\n",
              "      <th>362</th>\n",
              "      <td>2015-12-29</td>\n",
              "      <td>21.68</td>\n",
              "      <td>20.3</td>\n",
              "      <td>24.1</td>\n",
              "      <td>10.3</td>\n",
              "      <td>0.0</td>\n",
              "      <td>22309.0</td>\n",
              "      <td>Dezembro</td>\n",
              "      <td>Terça</td>\n",
              "    </tr>\n",
              "    <tr>\n",
              "      <th>363</th>\n",
              "      <td>2015-12-30</td>\n",
              "      <td>21.38</td>\n",
              "      <td>19.3</td>\n",
              "      <td>22.4</td>\n",
              "      <td>6.3</td>\n",
              "      <td>0.0</td>\n",
              "      <td>20467.0</td>\n",
              "      <td>Dezembro</td>\n",
              "      <td>Quarta</td>\n",
              "    </tr>\n",
              "    <tr>\n",
              "      <th>364</th>\n",
              "      <td>2015-12-31</td>\n",
              "      <td>24.76</td>\n",
              "      <td>20.2</td>\n",
              "      <td>29.0</td>\n",
              "      <td>0.0</td>\n",
              "      <td>0.0</td>\n",
              "      <td>22446.0</td>\n",
              "      <td>Dezembro</td>\n",
              "      <td>Quinta</td>\n",
              "    </tr>\n",
              "  </tbody>\n",
              "</table>\n",
              "<p>365 rows × 9 columns</p>\n",
              "</div>\n",
              "      <button class=\"colab-df-convert\" onclick=\"convertToInteractive('df-6c427643-50d9-47a9-8bc8-452eec602546')\"\n",
              "              title=\"Convert this dataframe to an interactive table.\"\n",
              "              style=\"display:none;\">\n",
              "        \n",
              "  <svg xmlns=\"http://www.w3.org/2000/svg\" height=\"24px\"viewBox=\"0 0 24 24\"\n",
              "       width=\"24px\">\n",
              "    <path d=\"M0 0h24v24H0V0z\" fill=\"none\"/>\n",
              "    <path d=\"M18.56 5.44l.94 2.06.94-2.06 2.06-.94-2.06-.94-.94-2.06-.94 2.06-2.06.94zm-11 1L8.5 8.5l.94-2.06 2.06-.94-2.06-.94L8.5 2.5l-.94 2.06-2.06.94zm10 10l.94 2.06.94-2.06 2.06-.94-2.06-.94-.94-2.06-.94 2.06-2.06.94z\"/><path d=\"M17.41 7.96l-1.37-1.37c-.4-.4-.92-.59-1.43-.59-.52 0-1.04.2-1.43.59L10.3 9.45l-7.72 7.72c-.78.78-.78 2.05 0 2.83L4 21.41c.39.39.9.59 1.41.59.51 0 1.02-.2 1.41-.59l7.78-7.78 2.81-2.81c.8-.78.8-2.07 0-2.86zM5.41 20L4 18.59l7.72-7.72 1.47 1.35L5.41 20z\"/>\n",
              "  </svg>\n",
              "      </button>\n",
              "      \n",
              "  <style>\n",
              "    .colab-df-container {\n",
              "      display:flex;\n",
              "      flex-wrap:wrap;\n",
              "      gap: 12px;\n",
              "    }\n",
              "\n",
              "    .colab-df-convert {\n",
              "      background-color: #E8F0FE;\n",
              "      border: none;\n",
              "      border-radius: 50%;\n",
              "      cursor: pointer;\n",
              "      display: none;\n",
              "      fill: #1967D2;\n",
              "      height: 32px;\n",
              "      padding: 0 0 0 0;\n",
              "      width: 32px;\n",
              "    }\n",
              "\n",
              "    .colab-df-convert:hover {\n",
              "      background-color: #E2EBFA;\n",
              "      box-shadow: 0px 1px 2px rgba(60, 64, 67, 0.3), 0px 1px 3px 1px rgba(60, 64, 67, 0.15);\n",
              "      fill: #174EA6;\n",
              "    }\n",
              "\n",
              "    [theme=dark] .colab-df-convert {\n",
              "      background-color: #3B4455;\n",
              "      fill: #D2E3FC;\n",
              "    }\n",
              "\n",
              "    [theme=dark] .colab-df-convert:hover {\n",
              "      background-color: #434B5C;\n",
              "      box-shadow: 0px 1px 3px 1px rgba(0, 0, 0, 0.15);\n",
              "      filter: drop-shadow(0px 1px 2px rgba(0, 0, 0, 0.3));\n",
              "      fill: #FFFFFF;\n",
              "    }\n",
              "  </style>\n",
              "\n",
              "      <script>\n",
              "        const buttonEl =\n",
              "          document.querySelector('#df-6c427643-50d9-47a9-8bc8-452eec602546 button.colab-df-convert');\n",
              "        buttonEl.style.display =\n",
              "          google.colab.kernel.accessAllowed ? 'block' : 'none';\n",
              "\n",
              "        async function convertToInteractive(key) {\n",
              "          const element = document.querySelector('#df-6c427643-50d9-47a9-8bc8-452eec602546');\n",
              "          const dataTable =\n",
              "            await google.colab.kernel.invokeFunction('convertToInteractive',\n",
              "                                                     [key], {});\n",
              "          if (!dataTable) return;\n",
              "\n",
              "          const docLinkHtml = 'Like what you see? Visit the ' +\n",
              "            '<a target=\"_blank\" href=https://colab.research.google.com/notebooks/data_table.ipynb>data table notebook</a>'\n",
              "            + ' to learn more about interactive tables.';\n",
              "          element.innerHTML = '';\n",
              "          dataTable['output_type'] = 'display_data';\n",
              "          await google.colab.output.renderOutput(dataTable, element);\n",
              "          const docLink = document.createElement('div');\n",
              "          docLink.innerHTML = docLinkHtml;\n",
              "          element.appendChild(docLink);\n",
              "        }\n",
              "      </script>\n",
              "    </div>\n",
              "  </div>\n",
              "  "
            ]
          },
          "metadata": {},
          "execution_count": 23
        }
      ]
    },
    {
      "cell_type": "markdown",
      "source": [
        "# **Análise Exploratória dos Dados**"
      ],
      "metadata": {
        "id": "dOTItRIFR_2P"
      }
    },
    {
      "cell_type": "code",
      "source": [
        "# separando os dados em grupos por dia da semana\n",
        "group_dia_semana = dados.groupby('dia')['consumo_de_cerveja'].sum()\n",
        "\n",
        "# ordenando os dados\n",
        "group_dia_semana.sort_values(ascending=False, inplace=True) \n",
        "group_dia_semana"
      ],
      "metadata": {
        "colab": {
          "base_uri": "https://localhost:8080/"
        },
        "id": "1PPgIuqcg540",
        "outputId": "3faec3cc-d538-4da4-c11d-dfb9213eb1e4"
      },
      "execution_count": null,
      "outputs": [
        {
          "output_type": "execute_result",
          "data": {
            "text/plain": [
              "dia\n",
              "Domingo    1508391.0\n",
              "Sábado     1499572.0\n",
              "Quinta     1276057.0\n",
              "Terça      1266468.0\n",
              "Sexta      1255170.0\n",
              "Quarta     1238140.0\n",
              "Segunda    1227701.0\n",
              "Name: consumo_de_cerveja, dtype: float64"
            ]
          },
          "metadata": {},
          "execution_count": 24
        }
      ]
    },
    {
      "cell_type": "code",
      "source": [
        "# criando uma lista de cores para usar na geração dos gráficos\n",
        "cores = ['maroon','firebrick','red','orangered','tomato','indianred','lightcoral','salmon','coral','lightsalmon','lightpink','mistyrose']\n",
        "\n",
        "# criando um gráfico de barras para relacionar o consumo de cerveja durante os dias úteis da semana e fins de semana\n",
        "fig = plt. figure(figsize=(5,4))\n",
        "eixo = fig.add_axes([0, 0, 1, 1])\n",
        "\n",
        "indice = range(len(group_dia_semana))\n",
        "\n",
        "eixo.bar(indice, group_dia_semana, color = cores, edgecolor='k')\n",
        "eixo.set_title('Comsumo total de cerveja por dias da semana do ano de 2015', fontsize=15, pad=10, weight='bold')\n",
        "eixo.set_ylabel('Consumo Total de Cerveja (L)', fontsize=12)\n",
        "eixo.set_xticks(indice)\n",
        "eixo.set_xticklabels(group_dia_semana.index)"
      ],
      "metadata": {
        "colab": {
          "base_uri": "https://localhost:8080/",
          "height": 480
        },
        "id": "JUymInCqVBLV",
        "outputId": "f257802b-4ed8-4e73-c4a9-a01ad3a845f2"
      },
      "execution_count": null,
      "outputs": [
        {
          "output_type": "execute_result",
          "data": {
            "text/plain": [
              "[Text(0, 0, 'Domingo'),\n",
              " Text(0, 0, 'Sábado'),\n",
              " Text(0, 0, 'Quinta'),\n",
              " Text(0, 0, 'Terça'),\n",
              " Text(0, 0, 'Sexta'),\n",
              " Text(0, 0, 'Quarta'),\n",
              " Text(0, 0, 'Segunda')]"
            ]
          },
          "metadata": {},
          "execution_count": 25
        },
        {
          "output_type": "display_data",
          "data": {
            "text/plain": [
              "<Figure size 360x288 with 1 Axes>"
            ],
            "image/png": "[encoded data removed]"
          },
          "metadata": {
            "needs_background": "light"
          }
        }
      ]
    },
    {
      "cell_type": "code",
      "source": [
        "# separando os dados em grupos de meses\n",
        "group_mes = dados.groupby('mes')['consumo_de_cerveja'].sum()\n",
        "\n",
        "# ordenando os dados\n",
        "group_mes = group_mes[mes.values()]\n",
        "group_mes"
      ],
      "metadata": {
        "colab": {
          "base_uri": "https://localhost:8080/"
        },
        "id": "aAiGhH8ajxRb",
        "outputId": "3e7f2f42-145c-4a7a-b738-011dd9f64feb"
      },
      "execution_count": null,
      "outputs": [
        {
          "output_type": "execute_result",
          "data": {
            "text/plain": [
              "mes\n",
              "Janeiro      889007.0\n",
              "Fevereiro    718848.0\n",
              "Março        776128.0\n",
              "Abril        738723.0\n",
              "Maio         706750.0\n",
              "Junho        708812.0\n",
              "Julho        699759.0\n",
              "Agosto       803178.0\n",
              "Setembro     755944.0\n",
              "Outubro      857249.0\n",
              "Novembro     774846.0\n",
              "Dezembro     842255.0\n",
              "Name: consumo_de_cerveja, dtype: float64"
            ]
          },
          "metadata": {},
          "execution_count": 26
        }
      ]
    },
    {
      "cell_type": "code",
      "source": [
        "# criando um gráfico de barras para relacionar o consumo de cerveja total durante os meses\n",
        "fig = plt. figure(figsize=(10,4))\n",
        "eixo = fig.add_axes([0, 0, 1, 1])\n",
        "\n",
        "indice = range(len(group_mes))\n",
        "\n",
        "eixo.bar(indice, group_mes, color = cores, edgecolor='k')\n",
        "eixo.set_title('Comsumo total de cerveja por meses do ano de 2015', fontsize=15, pad=10, weight='bold')\n",
        "eixo.set_ylabel('Consumo Total de Cerveja (L)', fontsize=12)\n",
        "eixo.set_xticks(indice)\n",
        "eixo.set_xticklabels(group_mes.index)"
      ],
      "metadata": {
        "colab": {
          "base_uri": "https://localhost:8080/",
          "height": 566
        },
        "id": "Fs-iq-ixj56u",
        "outputId": "ba765af1-3404-474c-e8ec-b8f18ca11466"
      },
      "execution_count": null,
      "outputs": [
        {
          "output_type": "execute_result",
          "data": {
            "text/plain": [
              "[Text(0, 0, 'Janeiro'),\n",
              " Text(0, 0, 'Fevereiro'),\n",
              " Text(0, 0, 'Março'),\n",
              " Text(0, 0, 'Abril'),\n",
              " Text(0, 0, 'Maio'),\n",
              " Text(0, 0, 'Junho'),\n",
              " Text(0, 0, 'Julho'),\n",
              " Text(0, 0, 'Agosto'),\n",
              " Text(0, 0, 'Setembro'),\n",
              " Text(0, 0, 'Outubro'),\n",
              " Text(0, 0, 'Novembro'),\n",
              " Text(0, 0, 'Dezembro')]"
            ]
          },
          "metadata": {},
          "execution_count": 27
        },
        {
          "output_type": "display_data",
          "data": {
            "text/plain": [
              "<Figure size 720x288 with 1 Axes>"
            ],
            "image/png": "[encoded data removed]"
          },
          "metadata": {
            "needs_background": "light"
          }
        }
      ]
    },
    {
      "cell_type": "markdown",
      "source": [
        "##**Matriz de Correlação**\n",
        ">Aplicando a Matriz de Correlação para analisar a associação linear entre duas variáveis. Sendo que:\n",
        ">*   -1: Indica que uma variável aumenta e outra diminui\n",
        ">*   +1: Indica que uma variável aumenta e outra aumenta"
      ],
      "metadata": {
        "id": "X06EJyl2nhfv"
      }
    },
    {
      "cell_type": "code",
      "source": [
        "dados.corr().round(3)"
      ],
      "metadata": {
        "id": "F9Udf_-R15ZF",
        "colab": {
          "base_uri": "https://localhost:8080/",
          "height": 238
        },
        "outputId": "d21400f1-9ca9-4352-c0df-ce4a93b850b4"
      },
      "execution_count": null,
      "outputs": [
        {
          "output_type": "execute_result",
          "data": {
            "text/plain": [
              "                    temperatura_media  temperatura_minima  temperatura_maxima  \\\n",
              "temperatura_media               1.000               0.863               0.923   \n",
              "temperatura_minima              0.863               1.000               0.673   \n",
              "temperatura_maxima              0.923               0.673               1.000   \n",
              "precipitacao                    0.024               0.099              -0.049   \n",
              "fim_de_semana                  -0.051              -0.060              -0.040   \n",
              "consumo_de_cerveja              0.575               0.393               0.643   \n",
              "\n",
              "                    precipitacao  fim_de_semana  consumo_de_cerveja  \n",
              "temperatura_media          0.024         -0.051               0.575  \n",
              "temperatura_minima         0.099         -0.060               0.393  \n",
              "temperatura_maxima        -0.049         -0.040               0.643  \n",
              "precipitacao               1.000          0.002              -0.194  \n",
              "fim_de_semana              0.002          1.000               0.506  \n",
              "consumo_de_cerveja        -0.194          0.506               1.000  "
            ],
            "text/html": [
              "\n",
              "  <div id=\"df-a46e4690-8834-42f7-947f-e37d58cf6599\">\n",
              "    <div class=\"colab-df-container\">\n",
              "      <div>\n",
              "<style scoped>\n",
              "    .dataframe tbody tr th:only-of-type {\n",
              "        vertical-align: middle;\n",
              "    }\n",
              "\n",
              "    .dataframe tbody tr th {\n",
              "        vertical-align: top;\n",
              "    }\n",
              "\n",
              "    .dataframe thead th {\n",
              "        text-align: right;\n",
              "    }\n",
              "</style>\n",
              "<table border=\"1\" class=\"dataframe\">\n",
              "  <thead>\n",
              "    <tr style=\"text-align: right;\">\n",
              "      <th></th>\n",
              "      <th>temperatura_media</th>\n",
              "      <th>temperatura_minima</th>\n",
              "      <th>temperatura_maxima</th>\n",
              "      <th>precipitacao</th>\n",
              "      <th>fim_de_semana</th>\n",
              "      <th>consumo_de_cerveja</th>\n",
              "    </tr>\n",
              "  </thead>\n",
              "  <tbody>\n",
              "    <tr>\n",
              "      <th>temperatura_media</th>\n",
              "      <td>1.000</td>\n",
              "      <td>0.863</td>\n",
              "      <td>0.923</td>\n",
              "      <td>0.024</td>\n",
              "      <td>-0.051</td>\n",
              "      <td>0.575</td>\n",
              "    </tr>\n",
              "    <tr>\n",
              "      <th>temperatura_minima</th>\n",
              "      <td>0.863</td>\n",
              "      <td>1.000</td>\n",
              "      <td>0.673</td>\n",
              "      <td>0.099</td>\n",
              "      <td>-0.060</td>\n",
              "      <td>0.393</td>\n",
              "    </tr>\n",
              "    <tr>\n",
              "      <th>temperatura_maxima</th>\n",
              "      <td>0.923</td>\n",
              "      <td>0.673</td>\n",
              "      <td>1.000</td>\n",
              "      <td>-0.049</td>\n",
              "      <td>-0.040</td>\n",
              "      <td>0.643</td>\n",
              "    </tr>\n",
              "    <tr>\n",
              "      <th>precipitacao</th>\n",
              "      <td>0.024</td>\n",
              "      <td>0.099</td>\n",
              "      <td>-0.049</td>\n",
              "      <td>1.000</td>\n",
              "      <td>0.002</td>\n",
              "      <td>-0.194</td>\n",
              "    </tr>\n",
              "    <tr>\n",
              "      <th>fim_de_semana</th>\n",
              "      <td>-0.051</td>\n",
              "      <td>-0.060</td>\n",
              "      <td>-0.040</td>\n",
              "      <td>0.002</td>\n",
              "      <td>1.000</td>\n",
              "      <td>0.506</td>\n",
              "    </tr>\n",
              "    <tr>\n",
              "      <th>consumo_de_cerveja</th>\n",
              "      <td>0.575</td>\n",
              "      <td>0.393</td>\n",
              "      <td>0.643</td>\n",
              "      <td>-0.194</td>\n",
              "      <td>0.506</td>\n",
              "      <td>1.000</td>\n",
              "    </tr>\n",
              "  </tbody>\n",
              "</table>\n",
              "</div>\n",
              "      <button class=\"colab-df-convert\" onclick=\"convertToInteractive('df-a46e4690-8834-42f7-947f-e37d58cf6599')\"\n",
              "              title=\"Convert this dataframe to an interactive table.\"\n",
              "              style=\"display:none;\">\n",
              "        \n",
              "  <svg xmlns=\"http://www.w3.org/2000/svg\" height=\"24px\"viewBox=\"0 0 24 24\"\n",
              "       width=\"24px\">\n",
              "    <path d=\"M0 0h24v24H0V0z\" fill=\"none\"/>\n",
              "    <path d=\"M18.56 5.44l.94 2.06.94-2.06 2.06-.94-2.06-.94-.94-2.06-.94 2.06-2.06.94zm-11 1L8.5 8.5l.94-2.06 2.06-.94-2.06-.94L8.5 2.5l-.94 2.06-2.06.94zm10 10l.94 2.06.94-2.06 2.06-.94-2.06-.94-.94-2.06-.94 2.06-2.06.94z\"/><path d=\"M17.41 7.96l-1.37-1.37c-.4-.4-.92-.59-1.43-.59-.52 0-1.04.2-1.43.59L10.3 9.45l-7.72 7.72c-.78.78-.78 2.05 0 2.83L4 21.41c.39.39.9.59 1.41.59.51 0 1.02-.2 1.41-.59l7.78-7.78 2.81-2.81c.8-.78.8-2.07 0-2.86zM5.41 20L4 18.59l7.72-7.72 1.47 1.35L5.41 20z\"/>\n",
              "  </svg>\n",
              "      </button>\n",
              "      \n",
              "  <style>\n",
              "    .colab-df-container {\n",
              "      display:flex;\n",
              "      flex-wrap:wrap;\n",
              "      gap: 12px;\n",
              "    }\n",
              "\n",
              "    .colab-df-convert {\n",
              "      background-color: #E8F0FE;\n",
              "      border: none;\n",
              "      border-radius: 50%;\n",
              "      cursor: pointer;\n",
              "      display: none;\n",
              "      fill: #1967D2;\n",
              "      height: 32px;\n",
              "      padding: 0 0 0 0;\n",
              "      width: 32px;\n",
              "    }\n",
              "\n",
              "    .colab-df-convert:hover {\n",
              "      background-color: #E2EBFA;\n",
              "      box-shadow: 0px 1px 2px rgba(60, 64, 67, 0.3), 0px 1px 3px 1px rgba(60, 64, 67, 0.15);\n",
              "      fill: #174EA6;\n",
              "    }\n",
              "\n",
              "    [theme=dark] .colab-df-convert {\n",
              "      background-color: #3B4455;\n",
              "      fill: #D2E3FC;\n",
              "    }\n",
              "\n",
              "    [theme=dark] .colab-df-convert:hover {\n",
              "      background-color: #434B5C;\n",
              "      box-shadow: 0px 1px 3px 1px rgba(0, 0, 0, 0.15);\n",
              "      filter: drop-shadow(0px 1px 2px rgba(0, 0, 0, 0.3));\n",
              "      fill: #FFFFFF;\n",
              "    }\n",
              "  </style>\n",
              "\n",
              "      <script>\n",
              "        const buttonEl =\n",
              "          document.querySelector('#df-a46e4690-8834-42f7-947f-e37d58cf6599 button.colab-df-convert');\n",
              "        buttonEl.style.display =\n",
              "          google.colab.kernel.accessAllowed ? 'block' : 'none';\n",
              "\n",
              "        async function convertToInteractive(key) {\n",
              "          const element = document.querySelector('#df-a46e4690-8834-42f7-947f-e37d58cf6599');\n",
              "          const dataTable =\n",
              "            await google.colab.kernel.invokeFunction('convertToInteractive',\n",
              "                                                     [key], {});\n",
              "          if (!dataTable) return;\n",
              "\n",
              "          const docLinkHtml = 'Like what you see? Visit the ' +\n",
              "            '<a target=\"_blank\" href=https://colab.research.google.com/notebooks/data_table.ipynb>data table notebook</a>'\n",
              "            + ' to learn more about interactive tables.';\n",
              "          element.innerHTML = '';\n",
              "          dataTable['output_type'] = 'display_data';\n",
              "          await google.colab.output.renderOutput(dataTable, element);\n",
              "          const docLink = document.createElement('div');\n",
              "          docLink.innerHTML = docLinkHtml;\n",
              "          element.appendChild(docLink);\n",
              "        }\n",
              "      </script>\n",
              "    </div>\n",
              "  </div>\n",
              "  "
            ]
          },
          "metadata": {},
          "execution_count": 28
        }
      ]
    },
    {
      "cell_type": "code",
      "source": [
        "plt.figure(figsize=(10,5))\n",
        "sns.heatmap(dados.corr(), annot = True, cmap='coolwarm')\n",
        "plt.title('Heatmap da Correlação das Variáveis', fontsize=15, pad=10, weight='bold')"
      ],
      "metadata": {
        "colab": {
          "base_uri": "https://localhost:8080/",
          "height": 458
        },
        "id": "gwolTTgCj36m",
        "outputId": "bbfaa536-efa8-4930-92f2-11e1c3959b2b"
      },
      "execution_count": null,
      "outputs": [
        {
          "output_type": "execute_result",
          "data": {
            "text/plain": [
              "Text(0.5, 1.0, 'Heatmap da Correlação das Variáveis')"
            ]
          },
          "metadata": {},
          "execution_count": 29
        },
        {
          "output_type": "display_data",
          "data": {
            "text/plain": [
              "<Figure size 720x360 with 2 Axes>"
            ],
            "image/png": "[encoded data removed]"
          },
          "metadata": {
            "needs_background": "light"
          }
        }
      ]
    },
    {
      "cell_type": "markdown",
      "source": [
        "# **Aprendizado de Máquina - Regressão Linear**\n",
        ">Em uma análise de Regressão Linear devemos explorar duas variáveis:\n",
        ">*   Variável Dependente\n",
        ">*   Variáveis Explicativas"
      ],
      "metadata": {
        "id": "PU64Xk3NvmYM"
      }
    },
    {
      "cell_type": "markdown",
      "source": [
        "##**Variável Dependente (y)**\n",
        ">Ánalise da variável dependente (y): \"consumo_cerveja\""
      ],
      "metadata": {
        "id": "gL8PMJ2WwCm0"
      }
    },
    {
      "cell_type": "code",
      "source": [
        "ax = sns.boxplot(data=dados['consumo_de_cerveja'],width=0.2,orient=\"v\")\n",
        "ax.set_title(\"Consumo de Cerveja\", fontsize=16)\n",
        "ax.set_ylabel(\"Litros\", fontsize=14)"
      ],
      "metadata": {
        "colab": {
          "base_uri": "https://localhost:8080/",
          "height": 300
        },
        "id": "L_y7dqCiwCMJ",
        "outputId": "9a4ec3da-4b45-48a6-99d0-ff05913aad8e"
      },
      "execution_count": null,
      "outputs": [
        {
          "output_type": "execute_result",
          "data": {
            "text/plain": [
              "Text(0, 0.5, 'Litros')"
            ]
          },
          "metadata": {},
          "execution_count": 30
        },
        {
          "output_type": "display_data",
          "data": {
            "text/plain": [
              "<Figure size 432x288 with 1 Axes>"
            ],
            "image/png": "[encoded data removed]"
          },
          "metadata": {
            "needs_background": "light"
          }
        }
      ]
    },
    {
      "cell_type": "markdown",
      "source": [
        ">**Ao analisar o Boxplot de consumo de cerveja, é visível que não há outliers, sendo assim, podemos concluir que nossos dados estão adequados para as próximas etapas.**"
      ],
      "metadata": {
        "id": "9Jz4za54yrkv"
      }
    },
    {
      "cell_type": "markdown",
      "source": [
        "##**Análise da Relação entre Variáveis Explicativas e Variável Dependente**   \n",
        ">*   Variável Dependente = consumo_de_cerveja\n",
        ">*   Variáveis Explicativas = temperatura_minima, temperatura_media,  temperatura_maxima, fim_de_semana, precipitacao\n"
      ],
      "metadata": {
        "id": "KmY_88CVrsVi"
      }
    },
    {
      "cell_type": "code",
      "source": [
        "ax = sns.pairplot(dados, y_vars=\"consumo_de_cerveja\",x_vars=[\"temperatura_minima\",\"temperatura_media\",\"temperatura_maxima\",\"fim_de_semana\",\"precipitacao\"], kind='reg')"
      ],
      "metadata": {
        "colab": {
          "base_uri": "https://localhost:8080/",
          "height": 197
        },
        "id": "VkMY8RUj8ocA",
        "outputId": "62e4bb44-a6f3-4421-e462-5be3b6b2908c"
      },
      "execution_count": null,
      "outputs": [
        {
          "output_type": "display_data",
          "data": {
            "text/plain": [
              "<Figure size 900x180 with 5 Axes>"
            ],
            "image/png": "[encoded data removed]"
          },
          "metadata": {
            "needs_background": "light"
          }
        }
      ]
    },
    {
      "cell_type": "markdown",
      "source": [
        "##**Regressão Linear**   \n"
      ],
      "metadata": {
        "id": "imqy4rbpwf-q"
      }
    },
    {
      "cell_type": "code",
      "source": [
        "# criando uma Series para armazenar a variável dependente (Consumo de Cerveja)\n",
        "y = dados['consumo_de_cerveja']"
      ],
      "metadata": {
        "id": "L2nBMGyQu3xY"
      },
      "execution_count": null,
      "outputs": []
    },
    {
      "cell_type": "code",
      "source": [
        "# criando um DataFrame para armazenar as variáveis explicativas (Temperatura Máxima, Fim de Semana, Precipitacao)\n",
        "X = dados[['temperatura_maxima','precipitacao','fim_de_semana']]"
      ],
      "metadata": {
        "id": "ZiLbo-6RvaKm"
      },
      "execution_count": null,
      "outputs": []
    },
    {
      "cell_type": "code",
      "source": [
        "# separando datasets de treino e teste\n",
        "X_train, X_test, y_train, y_test = train_test_split(X, y, random_state=2307, test_size=0.3)"
      ],
      "metadata": {
        "id": "SsWPIwG1vqXy"
      },
      "execution_count": null,
      "outputs": []
    },
    {
      "cell_type": "code",
      "source": [
        "# instanciando o modelo de Regressão Linear\n",
        "modelo_regressao = LinearRegression()"
      ],
      "metadata": {
        "id": "n5G4P69rx26e"
      },
      "execution_count": null,
      "outputs": []
    },
    {
      "cell_type": "code",
      "source": [
        "# ajustando o nosso modelo aos dados de Treino\n",
        "modelo_regressao.fit(X_train, y_train)"
      ],
      "metadata": {
        "colab": {
          "base_uri": "https://localhost:8080/"
        },
        "id": "vo43sj_PyDJq",
        "outputId": "dcf28b8b-51c4-45d0-f7ed-068843a62c09"
      },
      "execution_count": null,
      "outputs": [
        {
          "output_type": "execute_result",
          "data": {
            "text/plain": [
              "LinearRegression()"
            ]
          },
          "metadata": {},
          "execution_count": 36
        }
      ]
    },
    {
      "cell_type": "code",
      "source": [
        "# obtendo o coeficiente de determinação (R²), que explica o quanto nossa linha de regressão do modelo se ajustou aos dados.\n",
        "modelo_regressao.score(X_train,y_train).round(2)"
      ],
      "metadata": {
        "colab": {
          "base_uri": "https://localhost:8080/"
        },
        "id": "_1VbAumuzVGw",
        "outputId": "608b7ff0-4e9a-4cff-bded-86f11f3a8e3a"
      },
      "execution_count": null,
      "outputs": [
        {
          "output_type": "execute_result",
          "data": {
            "text/plain": [
              "0.74"
            ]
          },
          "metadata": {},
          "execution_count": 37
        }
      ]
    },
    {
      "cell_type": "markdown",
      "source": [
        ">**Através do modelo obtido, vamos gerar uma previsão para a variável dependente seguindo modelo de teste das variáveis explicativas**"
      ],
      "metadata": {
        "id": "aWQZmerc0UXj"
      }
    },
    {
      "cell_type": "code",
      "source": [
        "previsao_y_consumo = modelo_regressao.predict(X_test).round(2)\n",
        "previsao_y_consumo"
      ],
      "metadata": {
        "id": "UdQfaep10jY8",
        "colab": {
          "base_uri": "https://localhost:8080/"
        },
        "outputId": "a200e37c-188d-4573-f104-11769eaa72b4"
      },
      "execution_count": null,
      "outputs": [
        {
          "output_type": "execute_result",
          "data": {
            "text/plain": [
              "array([23526.97, 16922.65, 20437.63, 25284.89, 27377.42, 25710.35,\n",
              "       21280.68, 18852.7 , 23373.7 , 29933.58, 30549.06, 28113.73,\n",
              "       29446.01, 25124.39, 27072.31, 20771.27, 34782.  , 24775.  ,\n",
              "       23542.57, 29007.44, 27777.8 , 22400.14, 28049.3 , 25775.93,\n",
              "       24174.44, 24799.57, 29266.3 , 25041.92, 29600.6 , 22572.95,\n",
              "       20170.71, 23162.2 , 24574.81, 28645.27, 32869.65, 21371.83,\n",
              "       20904.73, 30140.68, 24241.17, 26643.41, 31334.89, 27331.16,\n",
              "       26886.03, 31077.16, 22874.95, 24708.27, 24295.93, 21170.47,\n",
              "       27844.52, 25108.64, 29266.3 , 21638.75, 23664.22, 30267.23,\n",
              "       28244.9 , 29593.74, 20680.61, 20370.9 , 20681.26, 24508.09,\n",
              "       29599.94, 27510.88, 26042.85, 35538.8 , 26962.29, 27545.61,\n",
              "       23640.61, 23907.53, 20170.71, 31468.35, 20395.99, 22575.41,\n",
              "       30734.33, 25442.29, 29333.03, 24584.65, 23284.18, 19877.57,\n",
              "       19946.59, 26776.86, 24107.71, 29112.37, 25308.83, 28178.17,\n",
              "       23640.61, 21920.09, 17969.81, 29708.97, 24374.63, 25308.83,\n",
              "       24595.28, 26910.32, 27338.07, 25041.92, 21830.74, 21106.07,\n",
              "       19514.58, 26933.08, 29333.03, 20437.79, 25050.42, 28114.88,\n",
              "       29399.75, 27664.81, 24508.09, 23152.85, 24552.85, 23173.51,\n",
              "       26309.76, 29199.57])"
            ]
          },
          "metadata": {},
          "execution_count": 38
        }
      ]
    },
    {
      "cell_type": "markdown",
      "source": [
        ">**Obtendo o Intercepto do Modelo (Representa o consumo médio de cerveja sem considerar o efeito das variáveis explicativas). Ou seja, é a nossa constante da equação.**"
      ],
      "metadata": {
        "id": "WhB7MRff8q8c"
      }
    },
    {
      "cell_type": "code",
      "source": [
        "modelo_regressao.intercept_.round(2)"
      ],
      "metadata": {
        "colab": {
          "base_uri": "https://localhost:8080/"
        },
        "id": "eHAmfM_s1LFt",
        "outputId": "ad78807c-bf93-4740-b00a-922ec6ecfc6e"
      },
      "execution_count": null,
      "outputs": [
        {
          "output_type": "execute_result",
          "data": {
            "text/plain": [
              "6424.59"
            ]
          },
          "metadata": {},
          "execution_count": 39
        }
      ]
    },
    {
      "cell_type": "code",
      "source": [
        "# obtendo os coeficientes de regressão\n",
        "modelo_regressao.coef_.round(2)"
      ],
      "metadata": {
        "colab": {
          "base_uri": "https://localhost:8080/"
        },
        "id": "8DiNKgxo9T71",
        "outputId": "b8383a33-0594-420a-91eb-aec0974b947e"
      },
      "execution_count": null,
      "outputs": [
        {
          "output_type": "execute_result",
          "data": {
            "text/plain": [
              "array([ 667.29,  -65.58, 5358.77])"
            ]
          },
          "metadata": {},
          "execution_count": 40
        }
      ]
    },
    {
      "cell_type": "markdown",
      "source": [
        "##**Coeficientes do Modelo**"
      ],
      "metadata": {
        "id": "bu0CFl3G0i7Z"
      }
    },
    {
      "cell_type": "code",
      "source": [
        "index=['Temperatura Máxima','Chuva (mm)','Final de Semana', 'Intercepto']\n",
        "pd.DataFrame(data = np.append(modelo_regressao.coef_, modelo_regressao.intercept_).round(2), index = index, columns = ['Parâmetros'])"
      ],
      "metadata": {
        "colab": {
          "base_uri": "https://localhost:8080/",
          "height": 175
        },
        "id": "UF6nQjAg0mWO",
        "outputId": "a5fa8c77-77ed-4d1b-c570-00b2cacf9764"
      },
      "execution_count": null,
      "outputs": [
        {
          "output_type": "execute_result",
          "data": {
            "text/plain": [
              "                    Parâmetros\n",
              "Temperatura Máxima      667.29\n",
              "Chuva (mm)              -65.58\n",
              "Final de Semana        5358.77\n",
              "Intercepto             6424.59"
            ],
            "text/html": [
              "\n",
              "  <div id=\"df-5d287716-f1fe-4ef5-8ea5-134a4d174be6\">\n",
              "    <div class=\"colab-df-container\">\n",
              "      <div>\n",
              "<style scoped>\n",
              "    .dataframe tbody tr th:only-of-type {\n",
              "        vertical-align: middle;\n",
              "    }\n",
              "\n",
              "    .dataframe tbody tr th {\n",
              "        vertical-align: top;\n",
              "    }\n",
              "\n",
              "    .dataframe thead th {\n",
              "        text-align: right;\n",
              "    }\n",
              "</style>\n",
              "<table border=\"1\" class=\"dataframe\">\n",
              "  <thead>\n",
              "    <tr style=\"text-align: right;\">\n",
              "      <th></th>\n",
              "      <th>Parâmetros</th>\n",
              "    </tr>\n",
              "  </thead>\n",
              "  <tbody>\n",
              "    <tr>\n",
              "      <th>Temperatura Máxima</th>\n",
              "      <td>667.29</td>\n",
              "    </tr>\n",
              "    <tr>\n",
              "      <th>Chuva (mm)</th>\n",
              "      <td>-65.58</td>\n",
              "    </tr>\n",
              "    <tr>\n",
              "      <th>Final de Semana</th>\n",
              "      <td>5358.77</td>\n",
              "    </tr>\n",
              "    <tr>\n",
              "      <th>Intercepto</th>\n",
              "      <td>6424.59</td>\n",
              "    </tr>\n",
              "  </tbody>\n",
              "</table>\n",
              "</div>\n",
              "      <button class=\"colab-df-convert\" onclick=\"convertToInteractive('df-5d287716-f1fe-4ef5-8ea5-134a4d174be6')\"\n",
              "              title=\"Convert this dataframe to an interactive table.\"\n",
              "              style=\"display:none;\">\n",
              "        \n",
              "  <svg xmlns=\"http://www.w3.org/2000/svg\" height=\"24px\"viewBox=\"0 0 24 24\"\n",
              "       width=\"24px\">\n",
              "    <path d=\"M0 0h24v24H0V0z\" fill=\"none\"/>\n",
              "    <path d=\"M18.56 5.44l.94 2.06.94-2.06 2.06-.94-2.06-.94-.94-2.06-.94 2.06-2.06.94zm-11 1L8.5 8.5l.94-2.06 2.06-.94-2.06-.94L8.5 2.5l-.94 2.06-2.06.94zm10 10l.94 2.06.94-2.06 2.06-.94-2.06-.94-.94-2.06-.94 2.06-2.06.94z\"/><path d=\"M17.41 7.96l-1.37-1.37c-.4-.4-.92-.59-1.43-.59-.52 0-1.04.2-1.43.59L10.3 9.45l-7.72 7.72c-.78.78-.78 2.05 0 2.83L4 21.41c.39.39.9.59 1.41.59.51 0 1.02-.2 1.41-.59l7.78-7.78 2.81-2.81c.8-.78.8-2.07 0-2.86zM5.41 20L4 18.59l7.72-7.72 1.47 1.35L5.41 20z\"/>\n",
              "  </svg>\n",
              "      </button>\n",
              "      \n",
              "  <style>\n",
              "    .colab-df-container {\n",
              "      display:flex;\n",
              "      flex-wrap:wrap;\n",
              "      gap: 12px;\n",
              "    }\n",
              "\n",
              "    .colab-df-convert {\n",
              "      background-color: #E8F0FE;\n",
              "      border: none;\n",
              "      border-radius: 50%;\n",
              "      cursor: pointer;\n",
              "      display: none;\n",
              "      fill: #1967D2;\n",
              "      height: 32px;\n",
              "      padding: 0 0 0 0;\n",
              "      width: 32px;\n",
              "    }\n",
              "\n",
              "    .colab-df-convert:hover {\n",
              "      background-color: #E2EBFA;\n",
              "      box-shadow: 0px 1px 2px rgba(60, 64, 67, 0.3), 0px 1px 3px 1px rgba(60, 64, 67, 0.15);\n",
              "      fill: #174EA6;\n",
              "    }\n",
              "\n",
              "    [theme=dark] .colab-df-convert {\n",
              "      background-color: #3B4455;\n",
              "      fill: #D2E3FC;\n",
              "    }\n",
              "\n",
              "    [theme=dark] .colab-df-convert:hover {\n",
              "      background-color: #434B5C;\n",
              "      box-shadow: 0px 1px 3px 1px rgba(0, 0, 0, 0.15);\n",
              "      filter: drop-shadow(0px 1px 2px rgba(0, 0, 0, 0.3));\n",
              "      fill: #FFFFFF;\n",
              "    }\n",
              "  </style>\n",
              "\n",
              "      <script>\n",
              "        const buttonEl =\n",
              "          document.querySelector('#df-5d287716-f1fe-4ef5-8ea5-134a4d174be6 button.colab-df-convert');\n",
              "        buttonEl.style.display =\n",
              "          google.colab.kernel.accessAllowed ? 'block' : 'none';\n",
              "\n",
              "        async function convertToInteractive(key) {\n",
              "          const element = document.querySelector('#df-5d287716-f1fe-4ef5-8ea5-134a4d174be6');\n",
              "          const dataTable =\n",
              "            await google.colab.kernel.invokeFunction('convertToInteractive',\n",
              "                                                     [key], {});\n",
              "          if (!dataTable) return;\n",
              "\n",
              "          const docLinkHtml = 'Like what you see? Visit the ' +\n",
              "            '<a target=\"_blank\" href=https://colab.research.google.com/notebooks/data_table.ipynb>data table notebook</a>'\n",
              "            + ' to learn more about interactive tables.';\n",
              "          element.innerHTML = '';\n",
              "          dataTable['output_type'] = 'display_data';\n",
              "          await google.colab.output.renderOutput(dataTable, element);\n",
              "          const docLink = document.createElement('div');\n",
              "          docLink.innerHTML = docLinkHtml;\n",
              "          element.appendChild(docLink);\n",
              "        }\n",
              "      </script>\n",
              "    </div>\n",
              "  </div>\n",
              "  "
            ]
          },
          "metadata": {},
          "execution_count": 41
        }
      ]
    },
    {
      "cell_type": "markdown",
      "source": [
        "##**Gráfico de Dispersão entre valor estimado de consumo x valor real de consumo**"
      ],
      "metadata": {
        "id": "v_Yox7Qg2UVA"
      }
    },
    {
      "cell_type": "code",
      "source": [
        "y_previsto_train = modelo_regressao.predict(X_train)\n",
        "fig = px.scatter(x=y_previsto_train, y=y_train, trendline='ols', trendline_color_override='green', width=700, height=400)\n",
        "fig.update_layout(title='Previsão Consumo X Real Consumo', title_x = 0.5,\n",
        "                   xaxis_title='Consumo de Cerveja em litros - Previsão',\n",
        "                   yaxis_title='Consumo de Cerveja em litros - Real')\n",
        "fig.show()"
      ],
      "metadata": {
        "colab": {
          "base_uri": "https://localhost:8080/",
          "height": 417
        },
        "id": "_h8Qj3iRyYZb",
        "outputId": "e3877794-1ec2-43bc-faae-adaea59fc101"
      },
      "execution_count": null,
      "outputs": [
        {
          "output_type": "display_data",
          "data": {
            "text/html": [
              "<html>\n",
              "<head><meta charset=\"utf-8\" /></head>\n",
              "<body>\n",
              "    <div>            <script src=\"https://cdnjs.cloudflare.com/ajax/libs/mathjax/2.7.5/MathJax.js?config=TeX-AMS-MML_SVG\"></script><script type=\"text/javascript\">if (window.MathJax) {MathJax.Hub.Config({SVG: {font: \"STIX-Web\"}});}</script>                <script type=\"text/javascript\">window.PlotlyConfig = {MathJaxConfig: 'local'};</script>\n",
              "        <script src=\"https://cdn.plot.ly/plotly-2.8.3.min.js\"></script>                <div id=\"34309d51-a129-4385-996a-2dcf1c58b4ac\" class=\"plotly-graph-div\" style=\"height:400px; width:700px;\"></div>            <script type=\"text/javascript\">                                    window.PLOTLYENV=window.PLOTLYENV || {};                                    if (document.getElementById(\"34309d51-a129-4385-996a-2dcf1c58b4ac\")) {                    Plotly.newPlot(                        \"34309d51-a129-4385-996a-2dcf1c58b4ac\",                        [{\"hovertemplate\":\"x=%{x}<br>y=%{y}<extra></extra>\",\"legendgroup\":\"\",\"marker\":{\"color\":\"#636efa\",\"symbol\":\"circle\"},\"mode\":\"markers\",\"name\":\"\",\"orientation\":\"v\",\"showlegend\":false,\"x\":[24374.627613445577,30789.090281914323,24262.32015590314,25396.02757589776,22613.44688625472,22487.531675441773,24174.44127180328,33136.56611939988,31801.990508451243,24995.654892613165,29979.845179429874,22839.86566085464,27221.17583848766,25976.11834658395,20103.98565840992,21338.222330141565,25575.745663299356,17986.3716899844,25842.660785489086,29870.29896703583,21425.445052879753,27701.695911529278,26330.23050356181,22706.408099759774,18069.331700789928,20704.54468333681,31801.990508451243,29399.754408743684,27043.778835342862,24374.627613445577,19303.24029184074,30467.414897502596,22039.12029428545,27592.995004557823,31735.26172790381,25775.932004941653,25662.942698087485,26710.1349326057,18714.814409809263,29266.296847648824,29199.56806710139,23774.068588518687,24908.457857825033,23507.15346632896,26826.024421228183,28445.083226838935,18885.981385395487,26243.033468773676,19654.919284351043,23907.526149613554,31401.61782516665,29112.37103231326,28065.178797795044,25175.372980014763,30583.821610866835,31334.889044619216,22306.035416475184,24588.724101089167,23173.5095635918,22167.003989183424,23440.424685781527,30537.940541141044,23974.254930160983,27644.337860269752,21977.803092283168,24387.416917702667,26663.874406298968,25909.389566036516,22699.84999152037,34604.599291443395,25844.956181795835,25852.170451396913,27847.967296372168,25369.001213417654,29066.110506006524,25929.857820277215,32084.31724342653,25821.019145144957,28912.18469067096,20566.00479283675,17167.91931432291,23106.780783044367,24841.729077277603,24708.271516182736,20037.25687786249,22001.740128934045,19532.11908731738,20388.772414261934,25224.72400060984,20713.234731772103,24241.170052350713,25242.101760562193,26523.203744062135,29646.9952062152,34004.0402665165,30993.375879378415,24040.983710708417,21787.616784881284,29839.31228535385,35472.07343856001,23040.052002496934,32536.007094472996,26643.40615205827,25375.55932165706,29333.02562819625,28244.896885196642,25442.28810220449,32195.80508349643,25451.446336399662,30460.85678926319,23970.786147750805,30067.042214218003,31669.189108718056,22973.323221949504,17912.26518372503,32584.209248455583,20904.731024979104,25497.048364426486,29933.584653123144,22526.69001235818,22639.162094470586,27911.252982459482,23640.611027423824,30246.760301619604,22372.76419702261,21046.222473147587,19903.799316767625,26176.304688226246,27028.014622385526,24298.22571087946,25108.64419946733,22947.09078899188,29136.282381014076,24684.334479531863,25796.400259182352,25108.64419946733,20637.815902789378,24946.797745728014,25642.47444384679,25775.932004941653,27980.27715931366,18186.558031626697,23907.526149613554,25575.745663299356,27243.96517698516,28772.169021336693,21807.783814850314,24574.813955087873,20103.98565840992,29399.754408743684,28932.652944911657,22906.59444140207,22639.679319212344,24211.659149502946,21959.27529725921,24058.855344370702,30046.573959977308,23573.88224687639,24756.801750846163,22773.136880307204,29979.845179429874,31268.160264071783,25983.470384345834,17901.773612692916,28311.62566574407,21104.917366621405,23306.967124686664,19237.98845858663,31001.245141882056,26977.05005479543,30447.74057278438,30333.957336407737,25909.389566036516,30313.489082167034,26055.143726137652,27985.3338007688,22082.568199543683,28111.439324101775,27711.066640817182,32335.820752830696,24841.729077277603,21705.47639154829,22506.221758117477,23106.780783044367,24574.813955087873,28778.7271295761,20958.671669728566,28198.63635888991,24708.271516182736,26509.948590963406,18607.75273778288,24374.627613445577,23507.15346632896,23995.405033713414,22029.447172266762,20037.25687786249,22973.323221949504,23373.695905234094,20383.00823554501,23738.491114223212,23040.052002496934,21572.018830453428,28178.16810464921,23579.785362213235,19304.71607067495,18902.867608556146,26109.575907678813,26730.603186846398,23812.59762048259,28244.896885196642,19503.42663348303,19466.373380353347,29059.38894165626,24908.457857825033,18291.48776345719,26910.321274248,24174.44127180328,32335.820752830696,25976.77450794562,24552.35269727121,30000.313433670577,27064.247089583558,21239.522625869642,24573.830881504477,31801.990508451243,35672.2597802023,27991.728452897343,25062.3836731606,17688.79796679353,24841.729077277603,19598.683243294836,30786.303348815876,20904.731024979104,26565.85655133877,22105.849074832884,29533.21196983855,24708.271516182736,25709.20322439422,23604.70547244751,17535.33800029961,24908.457857825033,23173.5095635918,28823.814269779403,23440.424685781527,30333.957336407737,27692.186245621444,31668.532947356376,22506.221758117477,19236.511511293305,25175.372980014763,23694.197903542386,23840.79736906612,23762.756231554926,26176.304688226246,24574.813955087873],\"xaxis\":\"x\",\"y\":[25867.0,29799.0,21479.0,23055.0,23362.0,25850.0,24726.0,31833.0,34496.0,26691.0,30345.0,23022.0,31572.0,23937.0,23210.0,19950.0,25640.0,16748.0,29513.0,33298.0,20464.0,28631.0,27594.0,24863.0,20106.0,21825.0,27518.0,32713.0,29130.0,26845.0,19345.0,32057.0,19119.0,30392.0,30814.0,22446.0,24227.0,22960.0,16956.0,30498.0,25489.0,21327.0,26127.0,21525.0,24876.0,33930.0,21454.0,26964.0,21826.0,22116.0,33450.0,33182.0,27250.0,22610.0,30127.0,35781.0,22522.0,22199.0,23898.0,22821.0,27146.0,29265.0,21617.0,29267.0,20648.0,22784.0,23702.0,22696.0,20227.0,37937.0,25366.0,23614.0,26468.0,27582.0,32473.0,27657.0,32184.0,28456.0,29732.0,21245.0,14343.0,20786.0,25479.0,25285.0,20740.0,21593.0,22217.0,17731.0,26828.0,21406.0,24227.0,24567.0,29637.0,32872.0,34695.0,26836.0,26150.0,24683.0,28893.0,31836.0,24609.0,30943.0,30740.0,28979.0,31663.0,27488.0,22654.0,32451.0,21955.0,32780.0,21827.0,29607.0,29188.0,22634.0,21029.0,32536.0,19052.0,29972.0,28028.0,21252.0,20738.0,28441.0,21748.0,27387.0,24862.0,21689.0,21237.0,28647.0,29090.0,23628.0,22541.0,25119.0,27475.0,26523.0,23537.0,23181.0,21073.0,24429.0,22001.0,23849.0,28131.0,17241.0,22008.0,24337.0,31649.0,27042.0,25795.0,22039.0,20824.0,32467.0,25070.0,22304.0,22032.0,21520.0,19525.0,24834.0,25743.0,22620.0,24213.0,19640.0,27871.0,32666.0,24862.0,16977.0,29829.0,17939.0,25142.0,23375.0,31933.0,24974.0,33330.0,29621.0,28749.0,35861.0,22603.0,27030.0,23198.0,25461.0,26959.0,30825.0,28742.0,24215.0,22772.0,24222.0,24867.0,28972.0,20467.0,28857.0,27724.0,30775.0,19849.0,24615.0,20298.0,20332.0,24738.0,20680.0,22162.0,20429.0,21814.0,23042.0,21838.0,19761.0,25343.0,28084.0,21004.0,20452.0,24146.0,28411.0,24097.0,26389.0,17655.0,17888.0,24968.0,22356.0,16228.0,24062.0,21281.0,29579.0,28218.0,22933.0,32983.0,25937.0,25317.0,20903.0,31088.0,37690.0,30617.0,23566.0,17075.0,28034.0,19727.0,29926.0,19143.0,26805.0,22375.0,26116.0,26075.0,26580.0,21784.0,14940.0,22933.0,20620.0,24886.0,24862.0,31310.0,28610.0,34382.0,20167.0,18146.0,24388.0,26081.0,28405.0,26594.0,26249.0,24000.0],\"yaxis\":\"y\",\"type\":\"scatter\"},{\"hovertemplate\":\"<b>OLS trendline</b><br>y = 1 * x + 1.00044e-11<br>R<sup>2</sup>=0.738235<br><br>x=%{x}<br>y=%{y} <b>(trend)</b><extra></extra>\",\"legendgroup\":\"\",\"line\":{\"color\":\"green\"},\"marker\":{\"color\":\"#636efa\",\"symbol\":\"circle\"},\"mode\":\"lines\",\"name\":\"\",\"showlegend\":false,\"x\":[17167.91931432291,17535.33800029961,17688.79796679353,17901.773612692916,17912.26518372503,17986.3716899844,18069.331700789928,18186.558031626697,18291.48776345719,18607.75273778288,18714.814409809263,18885.981385395487,18902.867608556146,19236.511511293305,19237.98845858663,19303.24029184074,19304.71607067495,19466.373380353347,19503.42663348303,19532.11908731738,19598.683243294836,19654.919284351043,19903.799316767625,20037.25687786249,20037.25687786249,20103.98565840992,20103.98565840992,20383.00823554501,20388.772414261934,20566.00479283675,20637.815902789378,20704.54468333681,20713.234731772103,20904.731024979104,20904.731024979104,20958.671669728566,21046.222473147587,21104.917366621405,21239.522625869642,21338.222330141565,21425.445052879753,21572.018830453428,21705.47639154829,21787.616784881284,21807.783814850314,21959.27529725921,21977.803092283168,22001.740128934045,22029.447172266762,22039.12029428545,22082.568199543683,22105.849074832884,22167.003989183424,22306.035416475184,22372.76419702261,22487.531675441773,22506.221758117477,22506.221758117477,22526.69001235818,22613.44688625472,22639.162094470586,22639.679319212344,22699.84999152037,22706.408099759774,22773.136880307204,22839.86566085464,22906.59444140207,22947.09078899188,22973.323221949504,22973.323221949504,23040.052002496934,23040.052002496934,23106.780783044367,23106.780783044367,23173.5095635918,23173.5095635918,23306.967124686664,23373.695905234094,23440.424685781527,23440.424685781527,23507.15346632896,23507.15346632896,23573.88224687639,23579.785362213235,23604.70547244751,23640.611027423824,23694.197903542386,23738.491114223212,23762.756231554926,23774.068588518687,23812.59762048259,23840.79736906612,23907.526149613554,23907.526149613554,23970.786147750805,23974.254930160983,23995.405033713414,24040.983710708417,24058.855344370702,24174.44127180328,24174.44127180328,24211.659149502946,24241.170052350713,24262.32015590314,24298.22571087946,24374.627613445577,24374.627613445577,24374.627613445577,24387.416917702667,24552.35269727121,24573.830881504477,24574.813955087873,24574.813955087873,24574.813955087873,24588.724101089167,24684.334479531863,24708.271516182736,24708.271516182736,24708.271516182736,24756.801750846163,24841.729077277603,24841.729077277603,24841.729077277603,24908.457857825033,24908.457857825033,24908.457857825033,24946.797745728014,24995.654892613165,25062.3836731606,25108.64419946733,25108.64419946733,25175.372980014763,25175.372980014763,25224.72400060984,25242.101760562193,25369.001213417654,25375.55932165706,25396.02757589776,25442.28810220449,25451.446336399662,25497.048364426486,25575.745663299356,25575.745663299356,25642.47444384679,25662.942698087485,25709.20322439422,25775.932004941653,25775.932004941653,25796.400259182352,25821.019145144957,25842.660785489086,25844.956181795835,25852.170451396913,25909.389566036516,25909.389566036516,25929.857820277215,25976.11834658395,25976.77450794562,25983.470384345834,26055.143726137652,26109.575907678813,26176.304688226246,26176.304688226246,26243.033468773676,26330.23050356181,26509.948590963406,26523.203744062135,26565.85655133877,26643.40615205827,26663.874406298968,26710.1349326057,26730.603186846398,26826.024421228183,26910.321274248,26977.05005479543,27028.014622385526,27043.778835342862,27064.247089583558,27221.17583848766,27243.96517698516,27592.995004557823,27644.337860269752,27692.186245621444,27701.695911529278,27711.066640817182,27847.967296372168,27911.252982459482,27980.27715931366,27985.3338007688,27991.728452897343,28065.178797795044,28111.439324101775,28178.16810464921,28198.63635888991,28244.896885196642,28244.896885196642,28311.62566574407,28445.083226838935,28772.169021336693,28778.7271295761,28823.814269779403,28912.18469067096,28932.652944911657,29059.38894165626,29066.110506006524,29112.37103231326,29136.282381014076,29199.56806710139,29266.296847648824,29333.02562819625,29399.754408743684,29399.754408743684,29533.21196983855,29646.9952062152,29839.31228535385,29870.29896703583,29933.584653123144,29979.845179429874,29979.845179429874,30000.313433670577,30046.573959977308,30067.042214218003,30246.760301619604,30313.489082167034,30333.957336407737,30333.957336407737,30447.74057278438,30460.85678926319,30467.414897502596,30537.940541141044,30583.821610866835,30786.303348815876,30789.090281914323,30993.375879378415,31001.245141882056,31268.160264071783,31334.889044619216,31401.61782516665,31668.532947356376,31669.189108718056,31735.26172790381,31801.990508451243,31801.990508451243,31801.990508451243,32084.31724342653,32195.80508349643,32335.820752830696,32335.820752830696,32536.007094472996,32584.209248455583,33136.56611939988,34004.0402665165,34604.599291443395,35472.07343856001,35672.2597802023],\"xaxis\":\"x\",\"y\":[17167.919314322917,17535.338000299616,17688.797966793536,17901.773612692923,17912.265183725038,17986.371689984408,18069.331700789935,18186.558031626704,18291.487763457197,18607.75273778289,18714.81440980927,18885.981385395495,18902.867608556153,19236.511511293313,19237.98845858664,19303.240291840746,19304.716070674956,19466.373380353354,19503.42663348304,19532.119087317387,19598.683243294843,19654.91928435105,19903.799316767632,20037.256877862495,20037.256877862495,20103.98565840993,20103.98565840993,20383.008235545018,20388.77241426194,20566.004792836757,20637.815902789385,20704.54468333682,20713.23473177211,20904.73102497911,20904.73102497911,20958.671669728574,21046.222473147594,21104.917366621412,21239.52262586965,21338.222330141572,21425.44505287976,21572.018830453435,21705.476391548298,21787.61678488129,21807.78381485032,21959.275297259217,21977.803092283175,22001.740128934052,22029.44717226677,22039.120294285458,22082.56819954369,22105.84907483289,22167.00398918343,22306.03541647519,22372.764197022618,22487.53167544178,22506.221758117485,22506.221758117485,22526.690012358187,22613.446886254726,22639.162094470594,22639.67931921235,22699.849991520376,22706.40809975978,22773.13688030721,22839.865660854648,22906.594441402078,22947.09078899189,22973.32322194951,22973.32322194951,23040.05200249694,23040.05200249694,23106.780783044374,23106.780783044374,23173.509563591808,23173.509563591808,23306.96712468667,23373.6959052341,23440.424685781534,23440.424685781534,23507.153466328968,23507.153466328968,23573.882246876397,23579.785362213242,23604.705472447517,23640.61102742383,23694.197903542394,23738.49111422322,23762.756231554933,23774.068588518694,23812.597620482597,23840.797369066127,23907.52614961356,23907.52614961356,23970.786147750812,23974.25493016099,23995.40503371342,24040.983710708424,24058.85534437071,24174.441271803287,24174.441271803287,24211.659149502953,24241.17005235072,24262.320155903148,24298.225710879466,24374.627613445584,24374.627613445584,24374.627613445584,24387.416917702674,24552.352697271217,24573.830881504484,24574.81395508788,24574.81395508788,24574.81395508788,24588.72410108917,24684.334479531866,24708.27151618274,24708.27151618274,24708.27151618274,24756.801750846167,24841.729077277607,24841.729077277607,24841.729077277607,24908.457857825037,24908.457857825037,24908.457857825037,24946.797745728018,24995.65489261317,25062.383673160602,25108.644199467333,25108.644199467333,25175.372980014767,25175.372980014767,25224.724000609844,25242.101760562196,25369.001213417658,25375.559321657063,25396.027575897762,25442.288102204493,25451.446336399666,25497.04836442649,25575.74566329936,25575.74566329936,25642.474443846793,25662.94269808749,25709.203224394223,25775.932004941656,25775.932004941656,25796.400259182356,25821.01914514496,25842.66078548909,25844.95618179584,25852.170451396916,25909.38956603652,25909.38956603652,25929.85782027722,25976.118346583953,25976.774507945625,25983.470384345837,26055.143726137656,26109.575907678816,26176.30468822625,26176.30468822625,26243.03346877368,26330.230503561812,26509.94859096341,26523.20374406214,26565.856551338773,26643.406152058273,26663.87440629897,26710.134932605702,26730.6031868464,26826.024421228187,26910.321274248003,26977.050054795433,27028.01462238553,27043.778835342866,27064.24708958356,27221.175838487663,27243.965176985163,27592.995004557826,27644.337860269756,27692.186245621448,27701.69591152928,27711.066640817186,27847.96729637217,27911.252982459486,27980.277159313664,27985.333800768803,27991.728452897347,28065.178797795048,28111.43932410178,28178.168104649212,28198.636358889915,28244.896885196646,28244.896885196646,28311.625665744075,28445.08322683894,28772.169021336696,28778.727129576102,28823.814269779406,28912.184690670965,28932.65294491166,29059.388941656263,29066.110506006527,29112.371032313262,29136.28238101408,29199.568067101394,29266.296847648828,29333.025628196254,29399.754408743687,29399.754408743687,29533.211969838554,29646.995206215204,29839.312285353855,29870.298967035833,29933.584653123147,29979.845179429878,29979.845179429878,30000.31343367058,30046.57395997731,30067.042214218007,30246.760301619608,30313.489082167038,30333.95733640774,30333.95733640774,30447.740572784383,30460.856789263195,30467.4148975026,30537.940541141048,30583.82161086684,30786.30334881588,30789.090281914327,30993.375879378418,31001.24514188206,31268.160264071787,31334.88904461922,31401.617825166653,31668.53294735638,31669.18910871806,31735.261727903813,31801.990508451247,31801.990508451247,31801.990508451247,32084.317243426533,32195.805083496434,32335.8207528307,32335.8207528307,32536.007094473,32584.209248455587,33136.56611939988,34004.0402665165,34604.599291443395,35472.07343856001,35672.2597802023],\"yaxis\":\"y\",\"type\":\"scatter\"}],                        {\"template\":{\"data\":{\"bar\":[{\"error_x\":{\"color\":\"#2a3f5f\"},\"error_y\":{\"color\":\"#2a3f5f\"},\"marker\":{\"line\":{\"color\":\"#E5ECF6\",\"width\":0.5},\"pattern\":{\"fillmode\":\"overlay\",\"size\":10,\"solidity\":0.2}},\"type\":\"bar\"}],\"barpolar\":[{\"marker\":{\"line\":{\"color\":\"#E5ECF6\",\"width\":0.5},\"pattern\":{\"fillmode\":\"overlay\",\"size\":10,\"solidity\":0.2}},\"type\":\"barpolar\"}],\"carpet\":[{\"aaxis\":{\"endlinecolor\":\"#2a3f5f\",\"gridcolor\":\"white\",\"linecolor\":\"white\",\"minorgridcolor\":\"white\",\"startlinecolor\":\"#2a3f5f\"},\"baxis\":{\"endlinecolor\":\"#2a3f5f\",\"gridcolor\":\"white\",\"linecolor\":\"white\",\"minorgridcolor\":\"white\",\"startlinecolor\":\"#2a3f5f\"},\"type\":\"carpet\"}],\"choropleth\":[{\"colorbar\":{\"outlinewidth\":0,\"ticks\":\"\"},\"type\":\"choropleth\"}],\"contour\":[{\"colorbar\":{\"outlinewidth\":0,\"ticks\":\"\"},\"colorscale\":[[0.0,\"#0d0887\"],[0.1111111111111111,\"#46039f\"],[0.2222222222222222,\"#7201a8\"],[0.3333333333333333,\"#9c179e\"],[0.4444444444444444,\"#bd3786\"],[0.5555555555555556,\"#d8576b\"],[0.6666666666666666,\"#ed7953\"],[0.7777777777777778,\"#fb9f3a\"],[0.8888888888888888,\"#fdca26\"],[1.0,\"#f0f921\"]],\"type\":\"contour\"}],\"contourcarpet\":[{\"colorbar\":{\"outlinewidth\":0,\"ticks\":\"\"},\"type\":\"contourcarpet\"}],\"heatmap\":[{\"colorbar\":{\"outlinewidth\":0,\"ticks\":\"\"},\"colorscale\":[[0.0,\"#0d0887\"],[0.1111111111111111,\"#46039f\"],[0.2222222222222222,\"#7201a8\"],[0.3333333333333333,\"#9c179e\"],[0.4444444444444444,\"#bd3786\"],[0.5555555555555556,\"#d8576b\"],[0.6666666666666666,\"#ed7953\"],[0.7777777777777778,\"#fb9f3a\"],[0.8888888888888888,\"#fdca26\"],[1.0,\"#f0f921\"]],\"type\":\"heatmap\"}],\"heatmapgl\":[{\"colorbar\":{\"outlinewidth\":0,\"ticks\":\"\"},\"colorscale\":[[0.0,\"#0d0887\"],[0.1111111111111111,\"#46039f\"],[0.2222222222222222,\"#7201a8\"],[0.3333333333333333,\"#9c179e\"],[0.4444444444444444,\"#bd3786\"],[0.5555555555555556,\"#d8576b\"],[0.6666666666666666,\"#ed7953\"],[0.7777777777777778,\"#fb9f3a\"],[0.8888888888888888,\"#fdca26\"],[1.0,\"#f0f921\"]],\"type\":\"heatmapgl\"}],\"histogram\":[{\"marker\":{\"pattern\":{\"fillmode\":\"overlay\",\"size\":10,\"solidity\":0.2}},\"type\":\"histogram\"}],\"histogram2d\":[{\"colorbar\":{\"outlinewidth\":0,\"ticks\":\"\"},\"colorscale\":[[0.0,\"#0d0887\"],[0.1111111111111111,\"#46039f\"],[0.2222222222222222,\"#7201a8\"],[0.3333333333333333,\"#9c179e\"],[0.4444444444444444,\"#bd3786\"],[0.5555555555555556,\"#d8576b\"],[0.6666666666666666,\"#ed7953\"],[0.7777777777777778,\"#fb9f3a\"],[0.8888888888888888,\"#fdca26\"],[1.0,\"#f0f921\"]],\"type\":\"histogram2d\"}],\"histogram2dcontour\":[{\"colorbar\":{\"outlinewidth\":0,\"ticks\":\"\"},\"colorscale\":[[0.0,\"#0d0887\"],[0.1111111111111111,\"#46039f\"],[0.2222222222222222,\"#7201a8\"],[0.3333333333333333,\"#9c179e\"],[0.4444444444444444,\"#bd3786\"],[0.5555555555555556,\"#d8576b\"],[0.6666666666666666,\"#ed7953\"],[0.7777777777777778,\"#fb9f3a\"],[0.8888888888888888,\"#fdca26\"],[1.0,\"#f0f921\"]],\"type\":\"histogram2dcontour\"}],\"mesh3d\":[{\"colorbar\":{\"outlinewidth\":0,\"ticks\":\"\"},\"type\":\"mesh3d\"}],\"parcoords\":[{\"line\":{\"colorbar\":{\"outlinewidth\":0,\"ticks\":\"\"}},\"type\":\"parcoords\"}],\"pie\":[{\"automargin\":true,\"type\":\"pie\"}],\"scatter\":[{\"marker\":{\"colorbar\":{\"outlinewidth\":0,\"ticks\":\"\"}},\"type\":\"scatter\"}],\"scatter3d\":[{\"line\":{\"colorbar\":{\"outlinewidth\":0,\"ticks\":\"\"}},\"marker\":{\"colorbar\":{\"outlinewidth\":0,\"ticks\":\"\"}},\"type\":\"scatter3d\"}],\"scattercarpet\":[{\"marker\":{\"colorbar\":{\"outlinewidth\":0,\"ticks\":\"\"}},\"type\":\"scattercarpet\"}],\"scattergeo\":[{\"marker\":{\"colorbar\":{\"outlinewidth\":0,\"ticks\":\"\"}},\"type\":\"scattergeo\"}],\"scattergl\":[{\"marker\":{\"colorbar\":{\"outlinewidth\":0,\"ticks\":\"\"}},\"type\":\"scattergl\"}],\"scattermapbox\":[{\"marker\":{\"colorbar\":{\"outlinewidth\":0,\"ticks\":\"\"}},\"type\":\"scattermapbox\"}],\"scatterpolar\":[{\"marker\":{\"colorbar\":{\"outlinewidth\":0,\"ticks\":\"\"}},\"type\":\"scatterpolar\"}],\"scatterpolargl\":[{\"marker\":{\"colorbar\":{\"outlinewidth\":0,\"ticks\":\"\"}},\"type\":\"scatterpolargl\"}],\"scatterternary\":[{\"marker\":{\"colorbar\":{\"outlinewidth\":0,\"ticks\":\"\"}},\"type\":\"scatterternary\"}],\"surface\":[{\"colorbar\":{\"outlinewidth\":0,\"ticks\":\"\"},\"colorscale\":[[0.0,\"#0d0887\"],[0.1111111111111111,\"#46039f\"],[0.2222222222222222,\"#7201a8\"],[0.3333333333333333,\"#9c179e\"],[0.4444444444444444,\"#bd3786\"],[0.5555555555555556,\"#d8576b\"],[0.6666666666666666,\"#ed7953\"],[0.7777777777777778,\"#fb9f3a\"],[0.8888888888888888,\"#fdca26\"],[1.0,\"#f0f921\"]],\"type\":\"surface\"}],\"table\":[{\"cells\":{\"fill\":{\"color\":\"#EBF0F8\"},\"line\":{\"color\":\"white\"}},\"header\":{\"fill\":{\"color\":\"#C8D4E3\"},\"line\":{\"color\":\"white\"}},\"type\":\"table\"}]},\"layout\":{\"annotationdefaults\":{\"arrowcolor\":\"#2a3f5f\",\"arrowhead\":0,\"arrowwidth\":1},\"autotypenumbers\":\"strict\",\"coloraxis\":{\"colorbar\":{\"outlinewidth\":0,\"ticks\":\"\"}},\"colorscale\":{\"diverging\":[[0,\"#8e0152\"],[0.1,\"#c51b7d\"],[0.2,\"#de77ae\"],[0.3,\"#f1b6da\"],[0.4,\"#fde0ef\"],[0.5,\"#f7f7f7\"],[0.6,\"#e6f5d0\"],[0.7,\"#b8e186\"],[0.8,\"#7fbc41\"],[0.9,\"#4d9221\"],[1,\"#276419\"]],\"sequential\":[[0.0,\"#0d0887\"],[0.1111111111111111,\"#46039f\"],[0.2222222222222222,\"#7201a8\"],[0.3333333333333333,\"#9c179e\"],[0.4444444444444444,\"#bd3786\"],[0.5555555555555556,\"#d8576b\"],[0.6666666666666666,\"#ed7953\"],[0.7777777777777778,\"#fb9f3a\"],[0.8888888888888888,\"#fdca26\"],[1.0,\"#f0f921\"]],\"sequentialminus\":[[0.0,\"#0d0887\"],[0.1111111111111111,\"#46039f\"],[0.2222222222222222,\"#7201a8\"],[0.3333333333333333,\"#9c179e\"],[0.4444444444444444,\"#bd3786\"],[0.5555555555555556,\"#d8576b\"],[0.6666666666666666,\"#ed7953\"],[0.7777777777777778,\"#fb9f3a\"],[0.8888888888888888,\"#fdca26\"],[1.0,\"#f0f921\"]]},\"colorway\":[\"#636efa\",\"#EF553B\",\"#00cc96\",\"#ab63fa\",\"#FFA15A\",\"#19d3f3\",\"#FF6692\",\"#B6E880\",\"#FF97FF\",\"#FECB52\"],\"font\":{\"color\":\"#2a3f5f\"},\"geo\":{\"bgcolor\":\"white\",\"lakecolor\":\"white\",\"landcolor\":\"#E5ECF6\",\"showlakes\":true,\"showland\":true,\"subunitcolor\":\"white\"},\"hoverlabel\":{\"align\":\"left\"},\"hovermode\":\"closest\",\"mapbox\":{\"style\":\"light\"},\"paper_bgcolor\":\"white\",\"plot_bgcolor\":\"#E5ECF6\",\"polar\":{\"angularaxis\":{\"gridcolor\":\"white\",\"linecolor\":\"white\",\"ticks\":\"\"},\"bgcolor\":\"#E5ECF6\",\"radialaxis\":{\"gridcolor\":\"white\",\"linecolor\":\"white\",\"ticks\":\"\"}},\"scene\":{\"xaxis\":{\"backgroundcolor\":\"#E5ECF6\",\"gridcolor\":\"white\",\"gridwidth\":2,\"linecolor\":\"white\",\"showbackground\":true,\"ticks\":\"\",\"zerolinecolor\":\"white\"},\"yaxis\":{\"backgroundcolor\":\"#E5ECF6\",\"gridcolor\":\"white\",\"gridwidth\":2,\"linecolor\":\"white\",\"showbackground\":true,\"ticks\":\"\",\"zerolinecolor\":\"white\"},\"zaxis\":{\"backgroundcolor\":\"#E5ECF6\",\"gridcolor\":\"white\",\"gridwidth\":2,\"linecolor\":\"white\",\"showbackground\":true,\"ticks\":\"\",\"zerolinecolor\":\"white\"}},\"shapedefaults\":{\"line\":{\"color\":\"#2a3f5f\"}},\"ternary\":{\"aaxis\":{\"gridcolor\":\"white\",\"linecolor\":\"white\",\"ticks\":\"\"},\"baxis\":{\"gridcolor\":\"white\",\"linecolor\":\"white\",\"ticks\":\"\"},\"bgcolor\":\"#E5ECF6\",\"caxis\":{\"gridcolor\":\"white\",\"linecolor\":\"white\",\"ticks\":\"\"}},\"title\":{\"x\":0.05},\"xaxis\":{\"automargin\":true,\"gridcolor\":\"white\",\"linecolor\":\"white\",\"ticks\":\"\",\"title\":{\"standoff\":15},\"zerolinecolor\":\"white\",\"zerolinewidth\":2},\"yaxis\":{\"automargin\":true,\"gridcolor\":\"white\",\"linecolor\":\"white\",\"ticks\":\"\",\"title\":{\"standoff\":15},\"zerolinecolor\":\"white\",\"zerolinewidth\":2}}},\"xaxis\":{\"anchor\":\"y\",\"domain\":[0.0,1.0],\"title\":{\"text\":\"Consumo de Cerveja em litros - Previs\\u00e3o\"}},\"yaxis\":{\"anchor\":\"x\",\"domain\":[0.0,1.0],\"title\":{\"text\":\"Consumo de Cerveja em litros - Real\"}},\"legend\":{\"tracegroupgap\":0},\"margin\":{\"t\":60},\"height\":400,\"width\":700,\"title\":{\"text\":\"Previs\\u00e3o Consumo X Real Consumo\",\"x\":0.5}},                        {\"responsive\": true}                    ).then(function(){\n",
              "                            \n",
              "var gd = document.getElementById('34309d51-a129-4385-996a-2dcf1c58b4ac');\n",
              "var x = new MutationObserver(function (mutations, observer) {{\n",
              "        var display = window.getComputedStyle(gd).display;\n",
              "        if (!display || display === 'none') {{\n",
              "            console.log([gd, 'removed!']);\n",
              "            Plotly.purge(gd);\n",
              "            observer.disconnect();\n",
              "        }}\n",
              "}});\n",
              "\n",
              "// Listen for the removal of the full notebook cells\n",
              "var notebookContainer = gd.closest('#notebook-container');\n",
              "if (notebookContainer) {{\n",
              "    x.observe(notebookContainer, {childList: true});\n",
              "}}\n",
              "\n",
              "// Listen for the clearing of the current output cell\n",
              "var outputEl = gd.closest('.output');\n",
              "if (outputEl) {{\n",
              "    x.observe(outputEl, {childList: true});\n",
              "}}\n",
              "\n",
              "                        })                };                            </script>        </div>\n",
              "</body>\n",
              "</html>"
            ]
          },
          "metadata": {}
        }
      ]
    },
    {
      "cell_type": "markdown",
      "source": [
        "##**Obtendo os Resíduos X Previsão**"
      ],
      "metadata": {
        "id": "3IZvDohk4_Eb"
      }
    },
    {
      "cell_type": "code",
      "source": [
        "residuo = y_train - y_previsto_train\n",
        "fig = px.scatter(x=y_previsto_train, y=residuo,trendline='ols',trendline_color_override='green', width=700, height=400)\n",
        "\n",
        "fig.update_layout(title='Resíduos x Previsão', title_x = 0.5,\n",
        "                   xaxis_title='Consumo de Cerveja (litros)',\n",
        "                   yaxis_title='Resíduo')\n",
        "\n",
        "fig.show()"
      ],
      "metadata": {
        "colab": {
          "base_uri": "https://localhost:8080/",
          "height": 417
        },
        "id": "zYgWLmks5BzT",
        "outputId": "ad153d02-9fae-4aa3-dae0-6e81917fdfaa"
      },
      "execution_count": null,
      "outputs": [
        {
          "output_type": "display_data",
          "data": {
            "text/html": [
              "<html>\n",
              "<head><meta charset=\"utf-8\" /></head>\n",
              "<body>\n",
              "    <div>            <script src=\"https://cdnjs.cloudflare.com/ajax/libs/mathjax/2.7.5/MathJax.js?config=TeX-AMS-MML_SVG\"></script><script type=\"text/javascript\">if (window.MathJax) {MathJax.Hub.Config({SVG: {font: \"STIX-Web\"}});}</script>                <script type=\"text/javascript\">window.PlotlyConfig = {MathJaxConfig: 'local'};</script>\n",
              "        <script src=\"https://cdn.plot.ly/plotly-2.8.3.min.js\"></script>                <div id=\"46622403-baff-4091-bd01-35361ab5aa48\" class=\"plotly-graph-div\" style=\"height:400px; width:700px;\"></div>            <script type=\"text/javascript\">                                    window.PLOTLYENV=window.PLOTLYENV || {};                                    if (document.getElementById(\"46622403-baff-4091-bd01-35361ab5aa48\")) {                    Plotly.newPlot(                        \"46622403-baff-4091-bd01-35361ab5aa48\",                        [{\"hovertemplate\":\"x=%{x}<br>y=%{y}<extra></extra>\",\"legendgroup\":\"\",\"marker\":{\"color\":\"#636efa\",\"symbol\":\"circle\"},\"mode\":\"markers\",\"name\":\"\",\"orientation\":\"v\",\"showlegend\":false,\"x\":[24374.627613445577,30789.090281914323,24262.32015590314,25396.02757589776,22613.44688625472,22487.531675441773,24174.44127180328,33136.56611939988,31801.990508451243,24995.654892613165,29979.845179429874,22839.86566085464,27221.17583848766,25976.11834658395,20103.98565840992,21338.222330141565,25575.745663299356,17986.3716899844,25842.660785489086,29870.29896703583,21425.445052879753,27701.695911529278,26330.23050356181,22706.408099759774,18069.331700789928,20704.54468333681,31801.990508451243,29399.754408743684,27043.778835342862,24374.627613445577,19303.24029184074,30467.414897502596,22039.12029428545,27592.995004557823,31735.26172790381,25775.932004941653,25662.942698087485,26710.1349326057,18714.814409809263,29266.296847648824,29199.56806710139,23774.068588518687,24908.457857825033,23507.15346632896,26826.024421228183,28445.083226838935,18885.981385395487,26243.033468773676,19654.919284351043,23907.526149613554,31401.61782516665,29112.37103231326,28065.178797795044,25175.372980014763,30583.821610866835,31334.889044619216,22306.035416475184,24588.724101089167,23173.5095635918,22167.003989183424,23440.424685781527,30537.940541141044,23974.254930160983,27644.337860269752,21977.803092283168,24387.416917702667,26663.874406298968,25909.389566036516,22699.84999152037,34604.599291443395,25844.956181795835,25852.170451396913,27847.967296372168,25369.001213417654,29066.110506006524,25929.857820277215,32084.31724342653,25821.019145144957,28912.18469067096,20566.00479283675,17167.91931432291,23106.780783044367,24841.729077277603,24708.271516182736,20037.25687786249,22001.740128934045,19532.11908731738,20388.772414261934,25224.72400060984,20713.234731772103,24241.170052350713,25242.101760562193,26523.203744062135,29646.9952062152,34004.0402665165,30993.375879378415,24040.983710708417,21787.616784881284,29839.31228535385,35472.07343856001,23040.052002496934,32536.007094472996,26643.40615205827,25375.55932165706,29333.02562819625,28244.896885196642,25442.28810220449,32195.80508349643,25451.446336399662,30460.85678926319,23970.786147750805,30067.042214218003,31669.189108718056,22973.323221949504,17912.26518372503,32584.209248455583,20904.731024979104,25497.048364426486,29933.584653123144,22526.69001235818,22639.162094470586,27911.252982459482,23640.611027423824,30246.760301619604,22372.76419702261,21046.222473147587,19903.799316767625,26176.304688226246,27028.014622385526,24298.22571087946,25108.64419946733,22947.09078899188,29136.282381014076,24684.334479531863,25796.400259182352,25108.64419946733,20637.815902789378,24946.797745728014,25642.47444384679,25775.932004941653,27980.27715931366,18186.558031626697,23907.526149613554,25575.745663299356,27243.96517698516,28772.169021336693,21807.783814850314,24574.813955087873,20103.98565840992,29399.754408743684,28932.652944911657,22906.59444140207,22639.679319212344,24211.659149502946,21959.27529725921,24058.855344370702,30046.573959977308,23573.88224687639,24756.801750846163,22773.136880307204,29979.845179429874,31268.160264071783,25983.470384345834,17901.773612692916,28311.62566574407,21104.917366621405,23306.967124686664,19237.98845858663,31001.245141882056,26977.05005479543,30447.74057278438,30333.957336407737,25909.389566036516,30313.489082167034,26055.143726137652,27985.3338007688,22082.568199543683,28111.439324101775,27711.066640817182,32335.820752830696,24841.729077277603,21705.47639154829,22506.221758117477,23106.780783044367,24574.813955087873,28778.7271295761,20958.671669728566,28198.63635888991,24708.271516182736,26509.948590963406,18607.75273778288,24374.627613445577,23507.15346632896,23995.405033713414,22029.447172266762,20037.25687786249,22973.323221949504,23373.695905234094,20383.00823554501,23738.491114223212,23040.052002496934,21572.018830453428,28178.16810464921,23579.785362213235,19304.71607067495,18902.867608556146,26109.575907678813,26730.603186846398,23812.59762048259,28244.896885196642,19503.42663348303,19466.373380353347,29059.38894165626,24908.457857825033,18291.48776345719,26910.321274248,24174.44127180328,32335.820752830696,25976.77450794562,24552.35269727121,30000.313433670577,27064.247089583558,21239.522625869642,24573.830881504477,31801.990508451243,35672.2597802023,27991.728452897343,25062.3836731606,17688.79796679353,24841.729077277603,19598.683243294836,30786.303348815876,20904.731024979104,26565.85655133877,22105.849074832884,29533.21196983855,24708.271516182736,25709.20322439422,23604.70547244751,17535.33800029961,24908.457857825033,23173.5095635918,28823.814269779403,23440.424685781527,30333.957336407737,27692.186245621444,31668.532947356376,22506.221758117477,19236.511511293305,25175.372980014763,23694.197903542386,23840.79736906612,23762.756231554926,26176.304688226246,24574.813955087873],\"xaxis\":\"x\",\"y\":[1492.3723865544234,-990.090281914323,-2783.3201559031404,-2341.0275758977587,748.5531137452817,3362.4683245582273,551.55872819672,-1303.5661193998822,2694.009491548757,1695.3451073868346,365.1548205701256,182.13433914535926,4350.824161512341,-2039.1183465839495,3106.0143415900784,-1388.2223301415652,64.25433670064376,-1238.3716899844003,3670.3392145109137,3427.7010329641707,-961.4450528797533,929.3040884707225,1263.7694964381917,2156.591900240226,2036.6682992100723,1120.4553166631886,-4283.990508451243,3313.2455912563164,2086.2211646571377,2470.3723865544234,41.75970815926121,1589.5851024974036,-2920.1202942854507,2799.0049954421775,-921.2617279038095,-3329.932004941653,-1435.942698087485,-3750.134932605699,-1758.8144098092635,1231.703152351176,-3710.5680671013906,-2447.0685885186867,1218.542142174967,-1982.1534663289603,-1950.0244212281832,5484.916773161065,2568.0186146045125,720.9665312263242,2171.0807156489573,-1791.5261496135536,2048.3821748333503,4069.628967686742,-815.1787977950444,-2565.372980014763,-456.8216108668348,4446.110955380784,215.96458352481568,-2389.7241010891667,724.4904364081995,653.996010816576,3705.575314218473,-1272.9405411410444,-2357.2549301609833,1622.6621397302479,-1329.8030922831676,-1603.416917702667,-2961.874406298968,-3213.389566036516,-2472.8499915203683,3332.4007085566045,-478.9561817958347,-2238.1704513969125,-1379.9672963721678,2212.998786582346,3406.889493993476,1727.142179722785,99.68275657347112,2634.9808548550427,819.8153093290384,678.9952071632506,-2824.9193143229095,-2320.780783044367,637.2709227223968,576.7284838172636,702.7431221375118,-408.74012893404506,2684.88091268262,-2657.7724142619336,1603.27599939016,692.7652682278967,-14.170052350713377,-675.1017605621928,3113.7962559378648,3225.0047937847994,690.959733483498,-4157.3758793784145,2109.0162892915832,2895.383215118716,-946.3122853538516,-3636.073438560008,1568.9479975030663,-1593.007094472996,4096.593847941731,3603.4406783429404,2329.97437180375,-756.896885196642,-2788.2881022044894,255.1949165035694,-3496.446336399662,2319.143210736809,-2143.786147750805,-460.0422142180032,-2481.1891087180556,-339.32322194950393,3116.7348162749695,-48.20924845558329,-1852.7310249791044,4474.951635573514,-1905.5846531231437,-1274.69001235818,-1901.1620944705865,529.7470175405178,-1892.6110274238235,-2859.7603016196044,2489.2358029773895,642.7775268524128,1333.200683232375,2470.695311773754,2061.9853776144737,-670.2257108794583,-2567.6441994673296,2171.9092110081183,-1661.2823810140762,1838.6655204681374,-2259.400259182352,-1927.6441994673296,435.184097210622,-517.797745728014,-3641.4744438467897,-1926.9320049416528,150.72284068633962,-945.5580316266969,-1899.5261496135536,-1238.7456632993562,4405.034823014841,-1730.1690213366928,3987.2161851496858,-2535.813955087873,720.0143415900784,3067.2455912563164,-3862.652944911657,-602.5944414020705,-607.6793192123441,-2691.659149502946,-2434.2752972592098,775.1446556292976,-4303.573959977308,-953.8822468763901,-543.8017508461635,-3133.1368803072037,-2108.8451794298744,1397.8397359282171,-1121.4703843458337,-924.7736126929158,1517.3743342559283,-3165.9173666214047,1835.0328753133363,4137.011541413369,931.7548581179435,-2003.0500547954289,2882.2594272156202,-712.9573364077369,2839.610433963484,5547.510917832966,-3452.1437261376523,-955.3338007687998,1115.4318004563174,-2650.439324101775,-752.0666408171819,-1510.8207528306957,3900.270922722397,2509.523608451709,265.7782418825227,1115.2192169556329,292.1860449121268,193.27287042390162,-491.6716697285665,658.3636411100888,3015.7284838172636,4265.051409036594,1241.247262217119,240.37238655442343,-3209.1534663289603,-3663.405033713414,2708.552827733238,642.7431221375118,-811.3232219495039,-2944.6959052340935,1430.9917644549896,-696.4911142232122,-1202.0520024969337,-1811.0188304534277,-2835.1681046492085,4504.214637786765,1699.2839293250508,1549.1323914438544,-1963.5759076788127,1680.3968131536021,284.40237951741074,-1855.896885196642,-1848.4266334830318,-1578.3733803533469,-4091.3889416562597,-2552.457857825033,-2063.4877634571894,-2848.321274247999,-2893.44127180328,-2756.8207528306957,2241.2254920543783,-1619.3526972712098,2982.686566329423,-1127.2470895835577,4077.477374130358,-3670.8308815044766,-713.9905084512429,2017.740219797699,2625.2715471026568,-1496.3836731605988,-613.7979667935288,3192.270922722397,128.31675670516415,-860.3033488158762,-1761.7310249791044,239.14344866123065,269.15092516711593,-3417.2119698385504,1366.7284838172636,870.7967756057806,-1820.7054724475092,-2595.338000299609,-1975.457857825033,-2553.5095635918005,-3937.814269779403,1421.575314218473,976.0426635922631,917.813754378556,2713.467052643624,-2339.2217581174773,-1090.5115112933054,-787.372980014763,2386.8020964576135,4564.20263093388,2831.2437684450742,72.69531177375393,-574.8139550878732],\"yaxis\":\"y\",\"type\":\"scatter\"},{\"hovertemplate\":\"<b>OLS trendline</b><br>y = 9.62772e-17 * x + 7.10543e-13<br>R<sup>2</sup>=0.000000<br><br>x=%{x}<br>y=%{y} <b>(trend)</b><extra></extra>\",\"legendgroup\":\"\",\"line\":{\"color\":\"green\"},\"marker\":{\"color\":\"#636efa\",\"symbol\":\"circle\"},\"mode\":\"lines\",\"name\":\"\",\"showlegend\":false,\"x\":[17167.91931432291,17535.33800029961,17688.79796679353,17901.773612692916,17912.26518372503,17986.3716899844,18069.331700789928,18186.558031626697,18291.48776345719,18607.75273778288,18714.814409809263,18885.981385395487,18902.867608556146,19236.511511293305,19237.98845858663,19303.24029184074,19304.71607067495,19466.373380353347,19503.42663348303,19532.11908731738,19598.683243294836,19654.919284351043,19903.799316767625,20037.25687786249,20037.25687786249,20103.98565840992,20103.98565840992,20383.00823554501,20388.772414261934,20566.00479283675,20637.815902789378,20704.54468333681,20713.234731772103,20904.731024979104,20904.731024979104,20958.671669728566,21046.222473147587,21104.917366621405,21239.522625869642,21338.222330141565,21425.445052879753,21572.018830453428,21705.47639154829,21787.616784881284,21807.783814850314,21959.27529725921,21977.803092283168,22001.740128934045,22029.447172266762,22039.12029428545,22082.568199543683,22105.849074832884,22167.003989183424,22306.035416475184,22372.76419702261,22487.531675441773,22506.221758117477,22506.221758117477,22526.69001235818,22613.44688625472,22639.162094470586,22639.679319212344,22699.84999152037,22706.408099759774,22773.136880307204,22839.86566085464,22906.59444140207,22947.09078899188,22973.323221949504,22973.323221949504,23040.052002496934,23040.052002496934,23106.780783044367,23106.780783044367,23173.5095635918,23173.5095635918,23306.967124686664,23373.695905234094,23440.424685781527,23440.424685781527,23507.15346632896,23507.15346632896,23573.88224687639,23579.785362213235,23604.70547244751,23640.611027423824,23694.197903542386,23738.491114223212,23762.756231554926,23774.068588518687,23812.59762048259,23840.79736906612,23907.526149613554,23907.526149613554,23970.786147750805,23974.254930160983,23995.405033713414,24040.983710708417,24058.855344370702,24174.44127180328,24174.44127180328,24211.659149502946,24241.170052350713,24262.32015590314,24298.22571087946,24374.627613445577,24374.627613445577,24374.627613445577,24387.416917702667,24552.35269727121,24573.830881504477,24574.813955087873,24574.813955087873,24574.813955087873,24588.724101089167,24684.334479531863,24708.271516182736,24708.271516182736,24708.271516182736,24756.801750846163,24841.729077277603,24841.729077277603,24841.729077277603,24908.457857825033,24908.457857825033,24908.457857825033,24946.797745728014,24995.654892613165,25062.3836731606,25108.64419946733,25108.64419946733,25175.372980014763,25175.372980014763,25224.72400060984,25242.101760562193,25369.001213417654,25375.55932165706,25396.02757589776,25442.28810220449,25451.446336399662,25497.048364426486,25575.745663299356,25575.745663299356,25642.47444384679,25662.942698087485,25709.20322439422,25775.932004941653,25775.932004941653,25796.400259182352,25821.019145144957,25842.660785489086,25844.956181795835,25852.170451396913,25909.389566036516,25909.389566036516,25929.857820277215,25976.11834658395,25976.77450794562,25983.470384345834,26055.143726137652,26109.575907678813,26176.304688226246,26176.304688226246,26243.033468773676,26330.23050356181,26509.948590963406,26523.203744062135,26565.85655133877,26643.40615205827,26663.874406298968,26710.1349326057,26730.603186846398,26826.024421228183,26910.321274248,26977.05005479543,27028.014622385526,27043.778835342862,27064.247089583558,27221.17583848766,27243.96517698516,27592.995004557823,27644.337860269752,27692.186245621444,27701.695911529278,27711.066640817182,27847.967296372168,27911.252982459482,27980.27715931366,27985.3338007688,27991.728452897343,28065.178797795044,28111.439324101775,28178.16810464921,28198.63635888991,28244.896885196642,28244.896885196642,28311.62566574407,28445.083226838935,28772.169021336693,28778.7271295761,28823.814269779403,28912.18469067096,28932.652944911657,29059.38894165626,29066.110506006524,29112.37103231326,29136.282381014076,29199.56806710139,29266.296847648824,29333.02562819625,29399.754408743684,29399.754408743684,29533.21196983855,29646.9952062152,29839.31228535385,29870.29896703583,29933.584653123144,29979.845179429874,29979.845179429874,30000.313433670577,30046.573959977308,30067.042214218003,30246.760301619604,30313.489082167034,30333.957336407737,30333.957336407737,30447.74057278438,30460.85678926319,30467.414897502596,30537.940541141044,30583.821610866835,30786.303348815876,30789.090281914323,30993.375879378415,31001.245141882056,31268.160264071783,31334.889044619216,31401.61782516665,31668.532947356376,31669.189108718056,31735.26172790381,31801.990508451243,31801.990508451243,31801.990508451243,32084.31724342653,32195.80508349643,32335.820752830696,32335.820752830696,32536.007094472996,32584.209248455583,33136.56611939988,34004.0402665165,34604.599291443395,35472.07343856001,35672.2597802023],\"xaxis\":\"x\",\"y\":[2.363421128846954e-12,2.3987951538611905e-12,2.413569842521919e-12,2.4340745313497103e-12,2.435084629938306e-12,2.442219393373562e-12,2.450206547019858e-12,2.461492764399695e-12,2.471595100236649e-12,2.5020441915320035e-12,2.5123517845012067e-12,2.5288312535840126e-12,2.5304570110734374e-12,2.562579296116992e-12,2.562721492397401e-12,2.569003753125703e-12,2.569145836910195e-12,2.5847097424342067e-12,2.5882771241518352e-12,2.5910395519172003e-12,2.5974481593410136e-12,2.602862405265213e-12,2.6268238662041004e-12,2.639672780221522e-12,2.639672780221522e-12,2.646097237230233e-12,2.646097237230233e-12,2.6729607365562834e-12,2.6735156952720517e-12,2.6905791240858922e-12,2.6974928932999203e-12,2.7039173503086314e-12,2.7047540034306896e-12,2.7231907213347638e-12,2.7231907213347638e-12,2.7283839730377337e-12,2.7368131151264876e-12,2.7424640923608965e-12,2.755423503488933e-12,2.7649260300099552e-12,2.773323585424832e-12,2.7874352914218727e-12,2.8002842054392944e-12,2.808192448648854e-12,2.810134072877058e-12,2.824719241494519e-12,2.82650304484925e-12,2.8288076345872594e-12,2.8314751898350735e-12,2.832406490482849e-12,2.8365895311013063e-12,2.83883094749156e-12,2.844718768532095e-12,2.8581043185176927e-12,2.8645287755264033e-12,2.8755782615960305e-12,2.877377689543825e-12,2.877377689543825e-12,2.8793483147872954e-12,2.8877010196020084e-12,2.890176806635693e-12,2.890226603561247e-12,2.8960196645801482e-12,2.896651060569958e-12,2.9030755175786685e-12,2.90949997458738e-12,2.9159244315960906e-12,2.9198233046455633e-12,2.9223488886048016e-12,2.9223488886048016e-12,2.9287733456135123e-12,2.9287733456135123e-12,2.9351978026222233e-12,2.9351978026222233e-12,2.9416222596309344e-12,2.9416222596309344e-12,2.954471173648356e-12,2.9608956306570667e-12,2.9673200876657778e-12,2.9673200876657778e-12,2.973744544674489e-12,2.973744544674489e-12,2.9801690016831995e-12,2.9807373368211696e-12,2.9831365740848965e-12,2.9865934586919106e-12,2.991752650558306e-12,2.9960170747761963e-12,2.9983532511880837e-12,2.9994423727093323e-12,3.0031518382114537e-12,3.005866829718043e-12,3.012291286726754e-12,3.012291286726754e-12,3.0183817792409252e-12,3.0187157437354646e-12,3.0207520154893863e-12,3.0251402007441757e-12,3.0268608307511513e-12,3.0379891147615974e-12,3.0379891147615974e-12,3.0415723460641237e-12,3.0444135717703084e-12,3.0464498435242297e-12,3.049906728131244e-12,3.05726248578773e-12,3.05726248578773e-12,3.05726248578773e-12,3.0584938035893883e-12,3.0743733508603465e-12,3.0764412092881458e-12,3.076535856813863e-12,3.076535856813863e-12,3.076535856813863e-12,3.0778750860675233e-12,3.0870801810932752e-12,3.0893847708312846e-12,3.0893847708312846e-12,3.0893847708312846e-12,3.0940571236550595e-12,3.1022336848487067e-12,3.1022336848487067e-12,3.1022336848487067e-12,3.1086581418574174e-12,3.1086581418574174e-12,3.1086581418574174e-12,3.112349397107862e-12,3.1170532241095984e-12,3.123477681118309e-12,3.12793151288355e-12,3.12793151288355e-12,3.134355969892261e-12,3.134355969892261e-12,3.139107345648689e-12,3.140780426900972e-12,3.152997944928584e-12,3.1536293409183935e-12,3.1555999661618635e-12,3.160053797927104e-12,3.16093552664116e-12,3.165325960066811e-12,3.1729027119445263e-12,3.1729027119445263e-12,3.1793271689532374e-12,3.181297794196707e-12,3.185751625961948e-12,3.192176082970659e-12,3.192176082970659e-12,3.194146708214129e-12,3.19651694446259e-12,3.19860053997937e-12,3.1988215342005995e-12,3.1995161035381648e-12,3.2050249969880808e-12,3.2050249969880808e-12,3.2069956222315508e-12,3.211449453996792e-12,3.2115126273445475e-12,3.2121572872606423e-12,3.219057792548385e-12,3.2242983680142135e-12,3.2307228250229246e-12,3.2307228250229246e-12,3.2371472820316352e-12,3.2455423642838163e-12,3.262845110066479e-12,3.2641212784682996e-12,3.268227769316799e-12,3.2756940240839008e-12,3.2776646493273703e-12,3.2821184810926114e-12,3.284089106336081e-12,3.293275991110158e-12,3.301391852118744e-12,3.307816309127455e-12,3.312723032594661e-12,3.314240766136166e-12,3.3162113913796355e-12,3.331320044534904e-12,3.3335141371622986e-12,3.367117735244006e-12,3.372060879214564e-12,3.3766675855278865e-12,3.377583149086682e-12,3.378485336223275e-12,3.3916657415725403e-12,3.397758707249408e-12,3.4044041584793476e-12,3.404890997521969e-12,3.405506656422798e-12,3.4125782465102993e-12,3.4170320782755403e-12,3.423456535284251e-12,3.4254271605277214e-12,3.429880992292962e-12,3.429880992292962e-12,3.4363054493016727e-12,3.4491543633190944e-12,3.4806452523728397e-12,3.4812766483626493e-12,3.48561750985458e-12,3.494125562380071e-12,3.4960961876235406e-12,3.5082979685621728e-12,3.5089451016409627e-12,3.5133989334062037e-12,3.515701049981517e-12,3.5217940156583848e-12,3.5282184726670954e-12,3.534642929675806e-12,3.541067386684517e-12,3.541067386684517e-12,3.553916300701939e-12,3.5648710267499322e-12,3.58338676758666e-12,3.586370077077337e-12,3.5924630427542044e-12,3.596916874519445e-12,3.596916874519445e-12,3.5988874997629154e-12,3.603341331528156e-12,3.6053119567716257e-12,3.622614702554289e-12,3.6290391595629995e-12,3.63100978480647e-12,3.63100978480647e-12,3.6419645108544624e-12,3.643227302834082e-12,3.643858698823891e-12,3.65064870700102e-12,3.655066005766992e-12,3.674560371014353e-12,3.674828688998441e-12,3.694496724704174e-12,3.6952543548935784e-12,3.720952182928422e-12,3.727376639937133e-12,3.733801096945844e-12,3.759498924980687e-12,3.7595620983284435e-12,3.765923381989398e-12,3.7723478389981095e-12,3.7723478389981095e-12,3.7723478389981095e-12,3.799529453233802e-12,3.810263185060565e-12,3.823743495067796e-12,3.823743495067796e-12,3.8430168660939294e-12,3.847657632243826e-12,3.9008369791723265e-12,3.984354920285569e-12,4.042175033363967e-12,4.125692974477208e-12,4.14496634550334e-12],\"yaxis\":\"y\",\"type\":\"scatter\"}],                        {\"template\":{\"data\":{\"bar\":[{\"error_x\":{\"color\":\"#2a3f5f\"},\"error_y\":{\"color\":\"#2a3f5f\"},\"marker\":{\"line\":{\"color\":\"#E5ECF6\",\"width\":0.5},\"pattern\":{\"fillmode\":\"overlay\",\"size\":10,\"solidity\":0.2}},\"type\":\"bar\"}],\"barpolar\":[{\"marker\":{\"line\":{\"color\":\"#E5ECF6\",\"width\":0.5},\"pattern\":{\"fillmode\":\"overlay\",\"size\":10,\"solidity\":0.2}},\"type\":\"barpolar\"}],\"carpet\":[{\"aaxis\":{\"endlinecolor\":\"#2a3f5f\",\"gridcolor\":\"white\",\"linecolor\":\"white\",\"minorgridcolor\":\"white\",\"startlinecolor\":\"#2a3f5f\"},\"baxis\":{\"endlinecolor\":\"#2a3f5f\",\"gridcolor\":\"white\",\"linecolor\":\"white\",\"minorgridcolor\":\"white\",\"startlinecolor\":\"#2a3f5f\"},\"type\":\"carpet\"}],\"choropleth\":[{\"colorbar\":{\"outlinewidth\":0,\"ticks\":\"\"},\"type\":\"choropleth\"}],\"contour\":[{\"colorbar\":{\"outlinewidth\":0,\"ticks\":\"\"},\"colorscale\":[[0.0,\"#0d0887\"],[0.1111111111111111,\"#46039f\"],[0.2222222222222222,\"#7201a8\"],[0.3333333333333333,\"#9c179e\"],[0.4444444444444444,\"#bd3786\"],[0.5555555555555556,\"#d8576b\"],[0.6666666666666666,\"#ed7953\"],[0.7777777777777778,\"#fb9f3a\"],[0.8888888888888888,\"#fdca26\"],[1.0,\"#f0f921\"]],\"type\":\"contour\"}],\"contourcarpet\":[{\"colorbar\":{\"outlinewidth\":0,\"ticks\":\"\"},\"type\":\"contourcarpet\"}],\"heatmap\":[{\"colorbar\":{\"outlinewidth\":0,\"ticks\":\"\"},\"colorscale\":[[0.0,\"#0d0887\"],[0.1111111111111111,\"#46039f\"],[0.2222222222222222,\"#7201a8\"],[0.3333333333333333,\"#9c179e\"],[0.4444444444444444,\"#bd3786\"],[0.5555555555555556,\"#d8576b\"],[0.6666666666666666,\"#ed7953\"],[0.7777777777777778,\"#fb9f3a\"],[0.8888888888888888,\"#fdca26\"],[1.0,\"#f0f921\"]],\"type\":\"heatmap\"}],\"heatmapgl\":[{\"colorbar\":{\"outlinewidth\":0,\"ticks\":\"\"},\"colorscale\":[[0.0,\"#0d0887\"],[0.1111111111111111,\"#46039f\"],[0.2222222222222222,\"#7201a8\"],[0.3333333333333333,\"#9c179e\"],[0.4444444444444444,\"#bd3786\"],[0.5555555555555556,\"#d8576b\"],[0.6666666666666666,\"#ed7953\"],[0.7777777777777778,\"#fb9f3a\"],[0.8888888888888888,\"#fdca26\"],[1.0,\"#f0f921\"]],\"type\":\"heatmapgl\"}],\"histogram\":[{\"marker\":{\"pattern\":{\"fillmode\":\"overlay\",\"size\":10,\"solidity\":0.2}},\"type\":\"histogram\"}],\"histogram2d\":[{\"colorbar\":{\"outlinewidth\":0,\"ticks\":\"\"},\"colorscale\":[[0.0,\"#0d0887\"],[0.1111111111111111,\"#46039f\"],[0.2222222222222222,\"#7201a8\"],[0.3333333333333333,\"#9c179e\"],[0.4444444444444444,\"#bd3786\"],[0.5555555555555556,\"#d8576b\"],[0.6666666666666666,\"#ed7953\"],[0.7777777777777778,\"#fb9f3a\"],[0.8888888888888888,\"#fdca26\"],[1.0,\"#f0f921\"]],\"type\":\"histogram2d\"}],\"histogram2dcontour\":[{\"colorbar\":{\"outlinewidth\":0,\"ticks\":\"\"},\"colorscale\":[[0.0,\"#0d0887\"],[0.1111111111111111,\"#46039f\"],[0.2222222222222222,\"#7201a8\"],[0.3333333333333333,\"#9c179e\"],[0.4444444444444444,\"#bd3786\"],[0.5555555555555556,\"#d8576b\"],[0.6666666666666666,\"#ed7953\"],[0.7777777777777778,\"#fb9f3a\"],[0.8888888888888888,\"#fdca26\"],[1.0,\"#f0f921\"]],\"type\":\"histogram2dcontour\"}],\"mesh3d\":[{\"colorbar\":{\"outlinewidth\":0,\"ticks\":\"\"},\"type\":\"mesh3d\"}],\"parcoords\":[{\"line\":{\"colorbar\":{\"outlinewidth\":0,\"ticks\":\"\"}},\"type\":\"parcoords\"}],\"pie\":[{\"automargin\":true,\"type\":\"pie\"}],\"scatter\":[{\"marker\":{\"colorbar\":{\"outlinewidth\":0,\"ticks\":\"\"}},\"type\":\"scatter\"}],\"scatter3d\":[{\"line\":{\"colorbar\":{\"outlinewidth\":0,\"ticks\":\"\"}},\"marker\":{\"colorbar\":{\"outlinewidth\":0,\"ticks\":\"\"}},\"type\":\"scatter3d\"}],\"scattercarpet\":[{\"marker\":{\"colorbar\":{\"outlinewidth\":0,\"ticks\":\"\"}},\"type\":\"scattercarpet\"}],\"scattergeo\":[{\"marker\":{\"colorbar\":{\"outlinewidth\":0,\"ticks\":\"\"}},\"type\":\"scattergeo\"}],\"scattergl\":[{\"marker\":{\"colorbar\":{\"outlinewidth\":0,\"ticks\":\"\"}},\"type\":\"scattergl\"}],\"scattermapbox\":[{\"marker\":{\"colorbar\":{\"outlinewidth\":0,\"ticks\":\"\"}},\"type\":\"scattermapbox\"}],\"scatterpolar\":[{\"marker\":{\"colorbar\":{\"outlinewidth\":0,\"ticks\":\"\"}},\"type\":\"scatterpolar\"}],\"scatterpolargl\":[{\"marker\":{\"colorbar\":{\"outlinewidth\":0,\"ticks\":\"\"}},\"type\":\"scatterpolargl\"}],\"scatterternary\":[{\"marker\":{\"colorbar\":{\"outlinewidth\":0,\"ticks\":\"\"}},\"type\":\"scatterternary\"}],\"surface\":[{\"colorbar\":{\"outlinewidth\":0,\"ticks\":\"\"},\"colorscale\":[[0.0,\"#0d0887\"],[0.1111111111111111,\"#46039f\"],[0.2222222222222222,\"#7201a8\"],[0.3333333333333333,\"#9c179e\"],[0.4444444444444444,\"#bd3786\"],[0.5555555555555556,\"#d8576b\"],[0.6666666666666666,\"#ed7953\"],[0.7777777777777778,\"#fb9f3a\"],[0.8888888888888888,\"#fdca26\"],[1.0,\"#f0f921\"]],\"type\":\"surface\"}],\"table\":[{\"cells\":{\"fill\":{\"color\":\"#EBF0F8\"},\"line\":{\"color\":\"white\"}},\"header\":{\"fill\":{\"color\":\"#C8D4E3\"},\"line\":{\"color\":\"white\"}},\"type\":\"table\"}]},\"layout\":{\"annotationdefaults\":{\"arrowcolor\":\"#2a3f5f\",\"arrowhead\":0,\"arrowwidth\":1},\"autotypenumbers\":\"strict\",\"coloraxis\":{\"colorbar\":{\"outlinewidth\":0,\"ticks\":\"\"}},\"colorscale\":{\"diverging\":[[0,\"#8e0152\"],[0.1,\"#c51b7d\"],[0.2,\"#de77ae\"],[0.3,\"#f1b6da\"],[0.4,\"#fde0ef\"],[0.5,\"#f7f7f7\"],[0.6,\"#e6f5d0\"],[0.7,\"#b8e186\"],[0.8,\"#7fbc41\"],[0.9,\"#4d9221\"],[1,\"#276419\"]],\"sequential\":[[0.0,\"#0d0887\"],[0.1111111111111111,\"#46039f\"],[0.2222222222222222,\"#7201a8\"],[0.3333333333333333,\"#9c179e\"],[0.4444444444444444,\"#bd3786\"],[0.5555555555555556,\"#d8576b\"],[0.6666666666666666,\"#ed7953\"],[0.7777777777777778,\"#fb9f3a\"],[0.8888888888888888,\"#fdca26\"],[1.0,\"#f0f921\"]],\"sequentialminus\":[[0.0,\"#0d0887\"],[0.1111111111111111,\"#46039f\"],[0.2222222222222222,\"#7201a8\"],[0.3333333333333333,\"#9c179e\"],[0.4444444444444444,\"#bd3786\"],[0.5555555555555556,\"#d8576b\"],[0.6666666666666666,\"#ed7953\"],[0.7777777777777778,\"#fb9f3a\"],[0.8888888888888888,\"#fdca26\"],[1.0,\"#f0f921\"]]},\"colorway\":[\"#636efa\",\"#EF553B\",\"#00cc96\",\"#ab63fa\",\"#FFA15A\",\"#19d3f3\",\"#FF6692\",\"#B6E880\",\"#FF97FF\",\"#FECB52\"],\"font\":{\"color\":\"#2a3f5f\"},\"geo\":{\"bgcolor\":\"white\",\"lakecolor\":\"white\",\"landcolor\":\"#E5ECF6\",\"showlakes\":true,\"showland\":true,\"subunitcolor\":\"white\"},\"hoverlabel\":{\"align\":\"left\"},\"hovermode\":\"closest\",\"mapbox\":{\"style\":\"light\"},\"paper_bgcolor\":\"white\",\"plot_bgcolor\":\"#E5ECF6\",\"polar\":{\"angularaxis\":{\"gridcolor\":\"white\",\"linecolor\":\"white\",\"ticks\":\"\"},\"bgcolor\":\"#E5ECF6\",\"radialaxis\":{\"gridcolor\":\"white\",\"linecolor\":\"white\",\"ticks\":\"\"}},\"scene\":{\"xaxis\":{\"backgroundcolor\":\"#E5ECF6\",\"gridcolor\":\"white\",\"gridwidth\":2,\"linecolor\":\"white\",\"showbackground\":true,\"ticks\":\"\",\"zerolinecolor\":\"white\"},\"yaxis\":{\"backgroundcolor\":\"#E5ECF6\",\"gridcolor\":\"white\",\"gridwidth\":2,\"linecolor\":\"white\",\"showbackground\":true,\"ticks\":\"\",\"zerolinecolor\":\"white\"},\"zaxis\":{\"backgroundcolor\":\"#E5ECF6\",\"gridcolor\":\"white\",\"gridwidth\":2,\"linecolor\":\"white\",\"showbackground\":true,\"ticks\":\"\",\"zerolinecolor\":\"white\"}},\"shapedefaults\":{\"line\":{\"color\":\"#2a3f5f\"}},\"ternary\":{\"aaxis\":{\"gridcolor\":\"white\",\"linecolor\":\"white\",\"ticks\":\"\"},\"baxis\":{\"gridcolor\":\"white\",\"linecolor\":\"white\",\"ticks\":\"\"},\"bgcolor\":\"#E5ECF6\",\"caxis\":{\"gridcolor\":\"white\",\"linecolor\":\"white\",\"ticks\":\"\"}},\"title\":{\"x\":0.05},\"xaxis\":{\"automargin\":true,\"gridcolor\":\"white\",\"linecolor\":\"white\",\"ticks\":\"\",\"title\":{\"standoff\":15},\"zerolinecolor\":\"white\",\"zerolinewidth\":2},\"yaxis\":{\"automargin\":true,\"gridcolor\":\"white\",\"linecolor\":\"white\",\"ticks\":\"\",\"title\":{\"standoff\":15},\"zerolinecolor\":\"white\",\"zerolinewidth\":2}}},\"xaxis\":{\"anchor\":\"y\",\"domain\":[0.0,1.0],\"title\":{\"text\":\"Consumo de Cerveja (litros)\"}},\"yaxis\":{\"anchor\":\"x\",\"domain\":[0.0,1.0],\"title\":{\"text\":\"Res\\u00edduo\"}},\"legend\":{\"tracegroupgap\":0},\"margin\":{\"t\":60},\"height\":400,\"width\":700,\"title\":{\"text\":\"Res\\u00edduos x Previs\\u00e3o\",\"x\":0.5}},                        {\"responsive\": true}                    ).then(function(){\n",
              "                            \n",
              "var gd = document.getElementById('46622403-baff-4091-bd01-35361ab5aa48');\n",
              "var x = new MutationObserver(function (mutations, observer) {{\n",
              "        var display = window.getComputedStyle(gd).display;\n",
              "        if (!display || display === 'none') {{\n",
              "            console.log([gd, 'removed!']);\n",
              "            Plotly.purge(gd);\n",
              "            observer.disconnect();\n",
              "        }}\n",
              "}});\n",
              "\n",
              "// Listen for the removal of the full notebook cells\n",
              "var notebookContainer = gd.closest('#notebook-container');\n",
              "if (notebookContainer) {{\n",
              "    x.observe(notebookContainer, {childList: true});\n",
              "}}\n",
              "\n",
              "// Listen for the clearing of the current output cell\n",
              "var outputEl = gd.closest('.output');\n",
              "if (outputEl) {{\n",
              "    x.observe(outputEl, {childList: true});\n",
              "}}\n",
              "\n",
              "                        })                };                            </script>        </div>\n",
              "</body>\n",
              "</html>"
            ]
          },
          "metadata": {}
        }
      ]
    },
    {
      "cell_type": "markdown",
      "source": [
        "##**Comparando Modelos**"
      ],
      "metadata": {
        "id": "e29jNJbMIHkg"
      }
    },
    {
      "cell_type": "code",
      "source": [
        "X2 = dados[['temperatura_media','precipitacao','fim_de_semana']]"
      ],
      "metadata": {
        "id": "RvBGa5TmIJBe"
      },
      "execution_count": null,
      "outputs": []
    },
    {
      "cell_type": "code",
      "source": [
        "X2_train, X2_test, y2_train, y2_test = train_test_split(X2, y, test_size=0.3, random_state=2307)"
      ],
      "metadata": {
        "id": "6QRWV8JbJQ44"
      },
      "execution_count": null,
      "outputs": []
    },
    {
      "cell_type": "code",
      "source": [
        "modelo2 = LinearRegression()"
      ],
      "metadata": {
        "id": "iLTjwwvrJU6M"
      },
      "execution_count": null,
      "outputs": []
    },
    {
      "cell_type": "code",
      "source": [
        "modelo2.fit(X2_train, y2_train)"
      ],
      "metadata": {
        "colab": {
          "base_uri": "https://localhost:8080/"
        },
        "id": "r8m0VB_pJa9W",
        "outputId": "60d7f6bc-7d2f-4c30-dae7-00d8e038094f"
      },
      "execution_count": null,
      "outputs": [
        {
          "output_type": "execute_result",
          "data": {
            "text/plain": [
              "LinearRegression()"
            ]
          },
          "metadata": {},
          "execution_count": 47
        }
      ]
    },
    {
      "cell_type": "code",
      "source": [
        "print('Coeficiente de Determinação com Temperatura Média')\n",
        "print('R² = {}'.format(modelo2.score(X2_train, y2_train).round(2)))"
      ],
      "metadata": {
        "colab": {
          "base_uri": "https://localhost:8080/"
        },
        "id": "yXJ4WV7YJlqt",
        "outputId": "6c3623cc-ec0f-4ea6-ffba-641318c6fb89"
      },
      "execution_count": null,
      "outputs": [
        {
          "output_type": "stream",
          "name": "stdout",
          "text": [
            "Coeficiente de Determinação com Temperatura Média\n",
            "R² = 0.68\n"
          ]
        }
      ]
    },
    {
      "cell_type": "code",
      "source": [
        "print('Coeficiente de Determinação com Temperatura Máxima')\n",
        "print('R² = {}'.format(modelo_regressao.score(X_train,y_train).round(2)))"
      ],
      "metadata": {
        "colab": {
          "base_uri": "https://localhost:8080/"
        },
        "id": "CHpnv-B9K0aK",
        "outputId": "603ad94d-383e-49c1-c767-e81b14aa5c97"
      },
      "execution_count": null,
      "outputs": [
        {
          "output_type": "stream",
          "name": "stdout",
          "text": [
            "Coeficiente de Determinação com Temperatura Máxima\n",
            "R² = 0.74\n"
          ]
        }
      ]
    }
  ]
}